{
 "cells": [
  {
   "cell_type": "code",
   "execution_count": 81,
   "metadata": {},
   "outputs": [],
   "source": [
    "import pandas as pd\n",
    "import seaborn as sns\n",
    "import matplotlib.pyplot as plt\n",
    "from matplotlib import ticker\n",
    "import numpy as np\n",
    "from statsmodels.graphics.factorplots import interaction_plot\n",
    "from sklearn.model_selection import train_test_split\n",
    "from statsmodels.stats.outliers_influence import variance_inflation_factor\n"
   ]
  },
  {
   "cell_type": "code",
   "execution_count": 82,
   "metadata": {},
   "outputs": [],
   "source": [
    "df = pd.read_csv('./data/kc_house_data.csv')"
   ]
  },
  {
   "cell_type": "code",
   "execution_count": 83,
   "metadata": {},
   "outputs": [
    {
     "data": {
      "text/html": [
       "<div>\n",
       "<style scoped>\n",
       "    .dataframe tbody tr th:only-of-type {\n",
       "        vertical-align: middle;\n",
       "    }\n",
       "\n",
       "    .dataframe tbody tr th {\n",
       "        vertical-align: top;\n",
       "    }\n",
       "\n",
       "    .dataframe thead th {\n",
       "        text-align: right;\n",
       "    }\n",
       "</style>\n",
       "<table border=\"1\" class=\"dataframe\">\n",
       "  <thead>\n",
       "    <tr style=\"text-align: right;\">\n",
       "      <th></th>\n",
       "      <th>id</th>\n",
       "      <th>date</th>\n",
       "      <th>price</th>\n",
       "      <th>bedrooms</th>\n",
       "      <th>bathrooms</th>\n",
       "      <th>sqft_living</th>\n",
       "      <th>sqft_lot</th>\n",
       "      <th>floors</th>\n",
       "      <th>waterfront</th>\n",
       "      <th>view</th>\n",
       "      <th>...</th>\n",
       "      <th>grade</th>\n",
       "      <th>sqft_above</th>\n",
       "      <th>sqft_basement</th>\n",
       "      <th>yr_built</th>\n",
       "      <th>yr_renovated</th>\n",
       "      <th>zipcode</th>\n",
       "      <th>lat</th>\n",
       "      <th>long</th>\n",
       "      <th>sqft_living15</th>\n",
       "      <th>sqft_lot15</th>\n",
       "    </tr>\n",
       "  </thead>\n",
       "  <tbody>\n",
       "    <tr>\n",
       "      <th>0</th>\n",
       "      <td>7129300520</td>\n",
       "      <td>10/13/2014</td>\n",
       "      <td>221900.0</td>\n",
       "      <td>3</td>\n",
       "      <td>1.00</td>\n",
       "      <td>1180</td>\n",
       "      <td>5650</td>\n",
       "      <td>1.0</td>\n",
       "      <td>NaN</td>\n",
       "      <td>NONE</td>\n",
       "      <td>...</td>\n",
       "      <td>7 Average</td>\n",
       "      <td>1180</td>\n",
       "      <td>0.0</td>\n",
       "      <td>1955</td>\n",
       "      <td>0.0</td>\n",
       "      <td>98178</td>\n",
       "      <td>47.5112</td>\n",
       "      <td>-122.257</td>\n",
       "      <td>1340</td>\n",
       "      <td>5650</td>\n",
       "    </tr>\n",
       "    <tr>\n",
       "      <th>1</th>\n",
       "      <td>6414100192</td>\n",
       "      <td>12/9/2014</td>\n",
       "      <td>538000.0</td>\n",
       "      <td>3</td>\n",
       "      <td>2.25</td>\n",
       "      <td>2570</td>\n",
       "      <td>7242</td>\n",
       "      <td>2.0</td>\n",
       "      <td>NO</td>\n",
       "      <td>NONE</td>\n",
       "      <td>...</td>\n",
       "      <td>7 Average</td>\n",
       "      <td>2170</td>\n",
       "      <td>400.0</td>\n",
       "      <td>1951</td>\n",
       "      <td>1991.0</td>\n",
       "      <td>98125</td>\n",
       "      <td>47.7210</td>\n",
       "      <td>-122.319</td>\n",
       "      <td>1690</td>\n",
       "      <td>7639</td>\n",
       "    </tr>\n",
       "    <tr>\n",
       "      <th>2</th>\n",
       "      <td>5631500400</td>\n",
       "      <td>2/25/2015</td>\n",
       "      <td>180000.0</td>\n",
       "      <td>2</td>\n",
       "      <td>1.00</td>\n",
       "      <td>770</td>\n",
       "      <td>10000</td>\n",
       "      <td>1.0</td>\n",
       "      <td>NO</td>\n",
       "      <td>NONE</td>\n",
       "      <td>...</td>\n",
       "      <td>6 Low Average</td>\n",
       "      <td>770</td>\n",
       "      <td>0.0</td>\n",
       "      <td>1933</td>\n",
       "      <td>NaN</td>\n",
       "      <td>98028</td>\n",
       "      <td>47.7379</td>\n",
       "      <td>-122.233</td>\n",
       "      <td>2720</td>\n",
       "      <td>8062</td>\n",
       "    </tr>\n",
       "    <tr>\n",
       "      <th>3</th>\n",
       "      <td>2487200875</td>\n",
       "      <td>12/9/2014</td>\n",
       "      <td>604000.0</td>\n",
       "      <td>4</td>\n",
       "      <td>3.00</td>\n",
       "      <td>1960</td>\n",
       "      <td>5000</td>\n",
       "      <td>1.0</td>\n",
       "      <td>NO</td>\n",
       "      <td>NONE</td>\n",
       "      <td>...</td>\n",
       "      <td>7 Average</td>\n",
       "      <td>1050</td>\n",
       "      <td>910.0</td>\n",
       "      <td>1965</td>\n",
       "      <td>0.0</td>\n",
       "      <td>98136</td>\n",
       "      <td>47.5208</td>\n",
       "      <td>-122.393</td>\n",
       "      <td>1360</td>\n",
       "      <td>5000</td>\n",
       "    </tr>\n",
       "    <tr>\n",
       "      <th>4</th>\n",
       "      <td>1954400510</td>\n",
       "      <td>2/18/2015</td>\n",
       "      <td>510000.0</td>\n",
       "      <td>3</td>\n",
       "      <td>2.00</td>\n",
       "      <td>1680</td>\n",
       "      <td>8080</td>\n",
       "      <td>1.0</td>\n",
       "      <td>NO</td>\n",
       "      <td>NONE</td>\n",
       "      <td>...</td>\n",
       "      <td>8 Good</td>\n",
       "      <td>1680</td>\n",
       "      <td>0.0</td>\n",
       "      <td>1987</td>\n",
       "      <td>0.0</td>\n",
       "      <td>98074</td>\n",
       "      <td>47.6168</td>\n",
       "      <td>-122.045</td>\n",
       "      <td>1800</td>\n",
       "      <td>7503</td>\n",
       "    </tr>\n",
       "    <tr>\n",
       "      <th>...</th>\n",
       "      <td>...</td>\n",
       "      <td>...</td>\n",
       "      <td>...</td>\n",
       "      <td>...</td>\n",
       "      <td>...</td>\n",
       "      <td>...</td>\n",
       "      <td>...</td>\n",
       "      <td>...</td>\n",
       "      <td>...</td>\n",
       "      <td>...</td>\n",
       "      <td>...</td>\n",
       "      <td>...</td>\n",
       "      <td>...</td>\n",
       "      <td>...</td>\n",
       "      <td>...</td>\n",
       "      <td>...</td>\n",
       "      <td>...</td>\n",
       "      <td>...</td>\n",
       "      <td>...</td>\n",
       "      <td>...</td>\n",
       "      <td>...</td>\n",
       "    </tr>\n",
       "    <tr>\n",
       "      <th>21592</th>\n",
       "      <td>263000018</td>\n",
       "      <td>5/21/2014</td>\n",
       "      <td>360000.0</td>\n",
       "      <td>3</td>\n",
       "      <td>2.50</td>\n",
       "      <td>1530</td>\n",
       "      <td>1131</td>\n",
       "      <td>3.0</td>\n",
       "      <td>NO</td>\n",
       "      <td>NONE</td>\n",
       "      <td>...</td>\n",
       "      <td>8 Good</td>\n",
       "      <td>1530</td>\n",
       "      <td>0.0</td>\n",
       "      <td>2009</td>\n",
       "      <td>0.0</td>\n",
       "      <td>98103</td>\n",
       "      <td>47.6993</td>\n",
       "      <td>-122.346</td>\n",
       "      <td>1530</td>\n",
       "      <td>1509</td>\n",
       "    </tr>\n",
       "    <tr>\n",
       "      <th>21593</th>\n",
       "      <td>6600060120</td>\n",
       "      <td>2/23/2015</td>\n",
       "      <td>400000.0</td>\n",
       "      <td>4</td>\n",
       "      <td>2.50</td>\n",
       "      <td>2310</td>\n",
       "      <td>5813</td>\n",
       "      <td>2.0</td>\n",
       "      <td>NO</td>\n",
       "      <td>NONE</td>\n",
       "      <td>...</td>\n",
       "      <td>8 Good</td>\n",
       "      <td>2310</td>\n",
       "      <td>0.0</td>\n",
       "      <td>2014</td>\n",
       "      <td>0.0</td>\n",
       "      <td>98146</td>\n",
       "      <td>47.5107</td>\n",
       "      <td>-122.362</td>\n",
       "      <td>1830</td>\n",
       "      <td>7200</td>\n",
       "    </tr>\n",
       "    <tr>\n",
       "      <th>21594</th>\n",
       "      <td>1523300141</td>\n",
       "      <td>6/23/2014</td>\n",
       "      <td>402101.0</td>\n",
       "      <td>2</td>\n",
       "      <td>0.75</td>\n",
       "      <td>1020</td>\n",
       "      <td>1350</td>\n",
       "      <td>2.0</td>\n",
       "      <td>NO</td>\n",
       "      <td>NONE</td>\n",
       "      <td>...</td>\n",
       "      <td>7 Average</td>\n",
       "      <td>1020</td>\n",
       "      <td>0.0</td>\n",
       "      <td>2009</td>\n",
       "      <td>0.0</td>\n",
       "      <td>98144</td>\n",
       "      <td>47.5944</td>\n",
       "      <td>-122.299</td>\n",
       "      <td>1020</td>\n",
       "      <td>2007</td>\n",
       "    </tr>\n",
       "    <tr>\n",
       "      <th>21595</th>\n",
       "      <td>291310100</td>\n",
       "      <td>1/16/2015</td>\n",
       "      <td>400000.0</td>\n",
       "      <td>3</td>\n",
       "      <td>2.50</td>\n",
       "      <td>1600</td>\n",
       "      <td>2388</td>\n",
       "      <td>2.0</td>\n",
       "      <td>NaN</td>\n",
       "      <td>NONE</td>\n",
       "      <td>...</td>\n",
       "      <td>8 Good</td>\n",
       "      <td>1600</td>\n",
       "      <td>0.0</td>\n",
       "      <td>2004</td>\n",
       "      <td>0.0</td>\n",
       "      <td>98027</td>\n",
       "      <td>47.5345</td>\n",
       "      <td>-122.069</td>\n",
       "      <td>1410</td>\n",
       "      <td>1287</td>\n",
       "    </tr>\n",
       "    <tr>\n",
       "      <th>21596</th>\n",
       "      <td>1523300157</td>\n",
       "      <td>10/15/2014</td>\n",
       "      <td>325000.0</td>\n",
       "      <td>2</td>\n",
       "      <td>0.75</td>\n",
       "      <td>1020</td>\n",
       "      <td>1076</td>\n",
       "      <td>2.0</td>\n",
       "      <td>NO</td>\n",
       "      <td>NONE</td>\n",
       "      <td>...</td>\n",
       "      <td>7 Average</td>\n",
       "      <td>1020</td>\n",
       "      <td>0.0</td>\n",
       "      <td>2008</td>\n",
       "      <td>0.0</td>\n",
       "      <td>98144</td>\n",
       "      <td>47.5941</td>\n",
       "      <td>-122.299</td>\n",
       "      <td>1020</td>\n",
       "      <td>1357</td>\n",
       "    </tr>\n",
       "  </tbody>\n",
       "</table>\n",
       "<p>21597 rows × 21 columns</p>\n",
       "</div>"
      ],
      "text/plain": [
       "               id        date     price  bedrooms  bathrooms  sqft_living  \\\n",
       "0      7129300520  10/13/2014  221900.0         3       1.00         1180   \n",
       "1      6414100192   12/9/2014  538000.0         3       2.25         2570   \n",
       "2      5631500400   2/25/2015  180000.0         2       1.00          770   \n",
       "3      2487200875   12/9/2014  604000.0         4       3.00         1960   \n",
       "4      1954400510   2/18/2015  510000.0         3       2.00         1680   \n",
       "...           ...         ...       ...       ...        ...          ...   \n",
       "21592   263000018   5/21/2014  360000.0         3       2.50         1530   \n",
       "21593  6600060120   2/23/2015  400000.0         4       2.50         2310   \n",
       "21594  1523300141   6/23/2014  402101.0         2       0.75         1020   \n",
       "21595   291310100   1/16/2015  400000.0         3       2.50         1600   \n",
       "21596  1523300157  10/15/2014  325000.0         2       0.75         1020   \n",
       "\n",
       "       sqft_lot  floors waterfront  view  ...          grade sqft_above  \\\n",
       "0          5650     1.0        NaN  NONE  ...      7 Average       1180   \n",
       "1          7242     2.0         NO  NONE  ...      7 Average       2170   \n",
       "2         10000     1.0         NO  NONE  ...  6 Low Average        770   \n",
       "3          5000     1.0         NO  NONE  ...      7 Average       1050   \n",
       "4          8080     1.0         NO  NONE  ...         8 Good       1680   \n",
       "...         ...     ...        ...   ...  ...            ...        ...   \n",
       "21592      1131     3.0         NO  NONE  ...         8 Good       1530   \n",
       "21593      5813     2.0         NO  NONE  ...         8 Good       2310   \n",
       "21594      1350     2.0         NO  NONE  ...      7 Average       1020   \n",
       "21595      2388     2.0        NaN  NONE  ...         8 Good       1600   \n",
       "21596      1076     2.0         NO  NONE  ...      7 Average       1020   \n",
       "\n",
       "       sqft_basement yr_built  yr_renovated  zipcode      lat     long  \\\n",
       "0                0.0     1955           0.0    98178  47.5112 -122.257   \n",
       "1              400.0     1951        1991.0    98125  47.7210 -122.319   \n",
       "2                0.0     1933           NaN    98028  47.7379 -122.233   \n",
       "3              910.0     1965           0.0    98136  47.5208 -122.393   \n",
       "4                0.0     1987           0.0    98074  47.6168 -122.045   \n",
       "...              ...      ...           ...      ...      ...      ...   \n",
       "21592            0.0     2009           0.0    98103  47.6993 -122.346   \n",
       "21593            0.0     2014           0.0    98146  47.5107 -122.362   \n",
       "21594            0.0     2009           0.0    98144  47.5944 -122.299   \n",
       "21595            0.0     2004           0.0    98027  47.5345 -122.069   \n",
       "21596            0.0     2008           0.0    98144  47.5941 -122.299   \n",
       "\n",
       "       sqft_living15  sqft_lot15  \n",
       "0               1340        5650  \n",
       "1               1690        7639  \n",
       "2               2720        8062  \n",
       "3               1360        5000  \n",
       "4               1800        7503  \n",
       "...              ...         ...  \n",
       "21592           1530        1509  \n",
       "21593           1830        7200  \n",
       "21594           1020        2007  \n",
       "21595           1410        1287  \n",
       "21596           1020        1357  \n",
       "\n",
       "[21597 rows x 21 columns]"
      ]
     },
     "execution_count": 83,
     "metadata": {},
     "output_type": "execute_result"
    }
   ],
   "source": [
    "df"
   ]
  },
  {
   "cell_type": "code",
   "execution_count": 84,
   "metadata": {},
   "outputs": [
    {
     "name": "stdout",
     "output_type": "stream",
     "text": [
      "<class 'pandas.core.frame.DataFrame'>\n",
      "RangeIndex: 21597 entries, 0 to 21596\n",
      "Data columns (total 21 columns):\n",
      " #   Column         Non-Null Count  Dtype  \n",
      "---  ------         --------------  -----  \n",
      " 0   id             21597 non-null  int64  \n",
      " 1   date           21597 non-null  object \n",
      " 2   price          21597 non-null  float64\n",
      " 3   bedrooms       21597 non-null  int64  \n",
      " 4   bathrooms      21597 non-null  float64\n",
      " 5   sqft_living    21597 non-null  int64  \n",
      " 6   sqft_lot       21597 non-null  int64  \n",
      " 7   floors         21597 non-null  float64\n",
      " 8   waterfront     19221 non-null  object \n",
      " 9   view           21534 non-null  object \n",
      " 10  condition      21597 non-null  object \n",
      " 11  grade          21597 non-null  object \n",
      " 12  sqft_above     21597 non-null  int64  \n",
      " 13  sqft_basement  21597 non-null  object \n",
      " 14  yr_built       21597 non-null  int64  \n",
      " 15  yr_renovated   17755 non-null  float64\n",
      " 16  zipcode        21597 non-null  int64  \n",
      " 17  lat            21597 non-null  float64\n",
      " 18  long           21597 non-null  float64\n",
      " 19  sqft_living15  21597 non-null  int64  \n",
      " 20  sqft_lot15     21597 non-null  int64  \n",
      "dtypes: float64(6), int64(9), object(6)\n",
      "memory usage: 3.5+ MB\n"
     ]
    }
   ],
   "source": [
    "df.info()"
   ]
  },
  {
   "cell_type": "code",
   "execution_count": 85,
   "metadata": {},
   "outputs": [
    {
     "data": {
      "text/plain": [
       "id              -0.016772\n",
       "price            1.000000\n",
       "bedrooms         0.308787\n",
       "bathrooms        0.525906\n",
       "sqft_living      0.701917\n",
       "sqft_lot         0.089876\n",
       "floors           0.256804\n",
       "sqft_above       0.605368\n",
       "yr_built         0.053953\n",
       "yr_renovated     0.129599\n",
       "zipcode         -0.053402\n",
       "lat              0.306692\n",
       "long             0.022036\n",
       "sqft_living15    0.585241\n",
       "sqft_lot15       0.082845\n",
       "Name: price, dtype: float64"
      ]
     },
     "execution_count": 85,
     "metadata": {},
     "output_type": "execute_result"
    }
   ],
   "source": [
    "df.corr()['price']"
   ]
  },
  {
   "cell_type": "code",
   "execution_count": 86,
   "metadata": {},
   "outputs": [
    {
     "data": {
      "text/plain": [
       "array(['NONE', nan, 'GOOD', 'EXCELLENT', 'AVERAGE', 'FAIR'], dtype=object)"
      ]
     },
     "execution_count": 86,
     "metadata": {},
     "output_type": "execute_result"
    }
   ],
   "source": [
    "df.view.unique()"
   ]
  },
  {
   "cell_type": "code",
   "execution_count": 87,
   "metadata": {},
   "outputs": [],
   "source": [
    "house = df.copy()"
   ]
  },
  {
   "cell_type": "code",
   "execution_count": 88,
   "metadata": {},
   "outputs": [],
   "source": [
    "house = house.drop(['id', 'date'], axis=1)"
   ]
  },
  {
   "cell_type": "code",
   "execution_count": 89,
   "metadata": {},
   "outputs": [],
   "source": [
    "house['grade'] = house['grade'].map(lambda x: x.split()[0])\n",
    "house['grade'] = house['grade'].astype(int)"
   ]
  },
  {
   "cell_type": "code",
   "execution_count": 90,
   "metadata": {},
   "outputs": [],
   "source": [
    "house['waterfront'].fillna(\"NO\", inplace = True)"
   ]
  },
  {
   "cell_type": "code",
   "execution_count": 91,
   "metadata": {},
   "outputs": [],
   "source": [
    "house['waterfront'].replace(('NO', 'YES'), (0, 1), inplace=True)"
   ]
  },
  {
   "cell_type": "code",
   "execution_count": 92,
   "metadata": {},
   "outputs": [],
   "source": [
    "# dropping 63 records with null view values\n",
    "house = house.dropna(subset=['view'])"
   ]
  },
  {
   "cell_type": "code",
   "execution_count": 93,
   "metadata": {},
   "outputs": [],
   "source": [
    "house = house.drop(['yr_renovated'], axis=1)"
   ]
  },
  {
   "cell_type": "code",
   "execution_count": 94,
   "metadata": {},
   "outputs": [],
   "source": [
    "house = house.drop(['sqft_basement'], axis=1)"
   ]
  },
  {
   "cell_type": "code",
   "execution_count": 95,
   "metadata": {},
   "outputs": [],
   "source": [
    "house['zipcode'] = house['zipcode'].astype(object)"
   ]
  },
  {
   "cell_type": "code",
   "execution_count": 96,
   "metadata": {},
   "outputs": [
    {
     "name": "stdout",
     "output_type": "stream",
     "text": [
      "<class 'pandas.core.frame.DataFrame'>\n",
      "Int64Index: 21534 entries, 0 to 21596\n",
      "Data columns (total 17 columns):\n",
      " #   Column         Non-Null Count  Dtype  \n",
      "---  ------         --------------  -----  \n",
      " 0   price          21534 non-null  float64\n",
      " 1   bedrooms       21534 non-null  int64  \n",
      " 2   bathrooms      21534 non-null  float64\n",
      " 3   sqft_living    21534 non-null  int64  \n",
      " 4   sqft_lot       21534 non-null  int64  \n",
      " 5   floors         21534 non-null  float64\n",
      " 6   waterfront     21534 non-null  int64  \n",
      " 7   view           21534 non-null  object \n",
      " 8   condition      21534 non-null  object \n",
      " 9   grade          21534 non-null  int64  \n",
      " 10  sqft_above     21534 non-null  int64  \n",
      " 11  yr_built       21534 non-null  int64  \n",
      " 12  zipcode        21534 non-null  object \n",
      " 13  lat            21534 non-null  float64\n",
      " 14  long           21534 non-null  float64\n",
      " 15  sqft_living15  21534 non-null  int64  \n",
      " 16  sqft_lot15     21534 non-null  int64  \n",
      "dtypes: float64(5), int64(9), object(3)\n",
      "memory usage: 3.0+ MB\n"
     ]
    }
   ],
   "source": [
    "house.info()"
   ]
  },
  {
   "cell_type": "code",
   "execution_count": null,
   "metadata": {},
   "outputs": [],
   "source": []
  },
  {
   "cell_type": "code",
   "execution_count": null,
   "metadata": {},
   "outputs": [],
   "source": []
  },
  {
   "cell_type": "code",
   "execution_count": 97,
   "metadata": {},
   "outputs": [
    {
     "data": {
      "text/plain": [
       "<AxesSubplot:title={'center':'Pearson Correlation of features'}>"
      ]
     },
     "execution_count": 97,
     "metadata": {},
     "output_type": "execute_result"
    },
    {
     "data": {
      "image/png": "[encoded data removed]",
      "text/plain": [
       "<Figure size 1152x864 with 2 Axes>"
      ]
     },
     "metadata": {
      "needs_background": "light"
     },
     "output_type": "display_data"
    }
   ],
   "source": [
    "str_list = [] # empty list to contain columns with strings (words)\n",
    "for colname, colvalue in house.iteritems():\n",
    "    if type(colvalue[1]) == str:\n",
    "         str_list.append(colname)\n",
    "# Get to the numeric columns by inversion            \n",
    "num_list = house.columns.difference(str_list) \n",
    "# Create Dataframe containing only numerical features\n",
    "house_num = house[num_list]\n",
    "f, ax = plt.subplots(figsize=(16, 12))\n",
    "plt.title('Pearson Correlation of features')\n",
    "# Draw the heatmap using seaborn\n",
    "#sns.heatmap(house_num.astype(float).corr(),linewidths=0.25,vmax=1.0, square=True, cmap=\"PuBuGn\", linecolor='k', annot=True)\n",
    "sns.heatmap(house_num.astype(float).corr(),linewidths=0.25, annot=True, mask=np.triu(np.ones_like(num_list, dtype=bool)))\n"
   ]
  },
  {
   "cell_type": "code",
   "execution_count": 98,
   "metadata": {},
   "outputs": [],
   "source": [
    "#sns.pairplot(house)"
   ]
  },
  {
   "cell_type": "code",
   "execution_count": 99,
   "metadata": {},
   "outputs": [],
   "source": [
    "popdf = pd.read_csv('./data/popdata.csv')"
   ]
  },
  {
   "cell_type": "code",
   "execution_count": 100,
   "metadata": {},
   "outputs": [
    {
     "data": {
      "text/html": [
       "<div>\n",
       "<style scoped>\n",
       "    .dataframe tbody tr th:only-of-type {\n",
       "        vertical-align: middle;\n",
       "    }\n",
       "\n",
       "    .dataframe tbody tr th {\n",
       "        vertical-align: top;\n",
       "    }\n",
       "\n",
       "    .dataframe thead th {\n",
       "        text-align: right;\n",
       "    }\n",
       "</style>\n",
       "<table border=\"1\" class=\"dataframe\">\n",
       "  <thead>\n",
       "    <tr style=\"text-align: right;\">\n",
       "      <th></th>\n",
       "      <th>zip</th>\n",
       "      <th>city</th>\n",
       "      <th>county</th>\n",
       "      <th>pop</th>\n",
       "    </tr>\n",
       "  </thead>\n",
       "  <tbody>\n",
       "    <tr>\n",
       "      <th>0</th>\n",
       "      <td>99301</td>\n",
       "      <td>Pasco</td>\n",
       "      <td>Franklin</td>\n",
       "      <td>79819</td>\n",
       "    </tr>\n",
       "    <tr>\n",
       "      <th>1</th>\n",
       "      <td>98052</td>\n",
       "      <td>Redmond</td>\n",
       "      <td>King</td>\n",
       "      <td>70245</td>\n",
       "    </tr>\n",
       "    <tr>\n",
       "      <th>2</th>\n",
       "      <td>98012</td>\n",
       "      <td>Bothell</td>\n",
       "      <td>Snohomish</td>\n",
       "      <td>67427</td>\n",
       "    </tr>\n",
       "    <tr>\n",
       "      <th>3</th>\n",
       "      <td>98682</td>\n",
       "      <td>Vancouver</td>\n",
       "      <td>Clark</td>\n",
       "      <td>60887</td>\n",
       "    </tr>\n",
       "    <tr>\n",
       "      <th>4</th>\n",
       "      <td>98208</td>\n",
       "      <td>Everett</td>\n",
       "      <td>Snohomish</td>\n",
       "      <td>58162</td>\n",
       "    </tr>\n",
       "  </tbody>\n",
       "</table>\n",
       "</div>"
      ],
      "text/plain": [
       "     zip       city     county    pop\n",
       "0  99301      Pasco   Franklin  79819\n",
       "1  98052    Redmond       King  70245\n",
       "2  98012    Bothell  Snohomish  67427\n",
       "3  98682  Vancouver      Clark  60887\n",
       "4  98208    Everett  Snohomish  58162"
      ]
     },
     "execution_count": 100,
     "metadata": {},
     "output_type": "execute_result"
    }
   ],
   "source": [
    "popdf.head()"
   ]
  },
  {
   "cell_type": "code",
   "execution_count": 101,
   "metadata": {},
   "outputs": [
    {
     "name": "stdout",
     "output_type": "stream",
     "text": [
      "<class 'pandas.core.frame.DataFrame'>\n",
      "RangeIndex: 592 entries, 0 to 591\n",
      "Data columns (total 4 columns):\n",
      " #   Column  Non-Null Count  Dtype \n",
      "---  ------  --------------  ----- \n",
      " 0   zip     592 non-null    int64 \n",
      " 1   city    592 non-null    object\n",
      " 2   county  592 non-null    object\n",
      " 3   pop     592 non-null    int64 \n",
      "dtypes: int64(2), object(2)\n",
      "memory usage: 18.6+ KB\n"
     ]
    }
   ],
   "source": [
    "popdf.info()"
   ]
  },
  {
   "cell_type": "code",
   "execution_count": 102,
   "metadata": {},
   "outputs": [],
   "source": [
    "areadf = pd.read_csv('./data/KC_area.csv',header=1)"
   ]
  },
  {
   "cell_type": "code",
   "execution_count": 103,
   "metadata": {},
   "outputs": [
    {
     "name": "stdout",
     "output_type": "stream",
     "text": [
      "<class 'pandas.core.frame.DataFrame'>\n",
      "RangeIndex: 522 entries, 0 to 521\n",
      "Data columns (total 7 columns):\n",
      " #   Column                      Non-Null Count  Dtype  \n",
      "---  ------                      --------------  -----  \n",
      " 0   Unnamed: 0                  0 non-null      float64\n",
      " 1   ZIP Code                    522 non-null    int64  \n",
      " 2   City                        522 non-null    object \n",
      " 3   County                      522 non-null    object \n",
      " 4   Land Area (Sq. Meters)      522 non-null    object \n",
      " 5   Land Area (Sq. Miles)       522 non-null    object \n",
      " 6   Land Area (Sq. Kilometers)  522 non-null    object \n",
      "dtypes: float64(1), int64(1), object(5)\n",
      "memory usage: 28.7+ KB\n"
     ]
    }
   ],
   "source": [
    "areadf.info()"
   ]
  },
  {
   "cell_type": "code",
   "execution_count": 104,
   "metadata": {},
   "outputs": [],
   "source": [
    "areadf.drop(areadf.columns[0],axis= 1,inplace=True)"
   ]
  },
  {
   "cell_type": "code",
   "execution_count": 105,
   "metadata": {},
   "outputs": [
    {
     "name": "stdout",
     "output_type": "stream",
     "text": [
      "<class 'pandas.core.frame.DataFrame'>\n",
      "RangeIndex: 522 entries, 0 to 521\n",
      "Data columns (total 6 columns):\n",
      " #   Column                      Non-Null Count  Dtype \n",
      "---  ------                      --------------  ----- \n",
      " 0   ZIP Code                    522 non-null    int64 \n",
      " 1   City                        522 non-null    object\n",
      " 2   County                      522 non-null    object\n",
      " 3   Land Area (Sq. Meters)      522 non-null    object\n",
      " 4   Land Area (Sq. Miles)       522 non-null    object\n",
      " 5   Land Area (Sq. Kilometers)  522 non-null    object\n",
      "dtypes: int64(1), object(5)\n",
      "memory usage: 24.6+ KB\n"
     ]
    }
   ],
   "source": [
    "areadf.info()"
   ]
  },
  {
   "cell_type": "code",
   "execution_count": 106,
   "metadata": {},
   "outputs": [
    {
     "data": {
      "text/html": [
       "<div>\n",
       "<style scoped>\n",
       "    .dataframe tbody tr th:only-of-type {\n",
       "        vertical-align: middle;\n",
       "    }\n",
       "\n",
       "    .dataframe tbody tr th {\n",
       "        vertical-align: top;\n",
       "    }\n",
       "\n",
       "    .dataframe thead th {\n",
       "        text-align: right;\n",
       "    }\n",
       "</style>\n",
       "<table border=\"1\" class=\"dataframe\">\n",
       "  <thead>\n",
       "    <tr style=\"text-align: right;\">\n",
       "      <th></th>\n",
       "      <th>ZIP Code</th>\n",
       "      <th>City</th>\n",
       "      <th>County</th>\n",
       "      <th>Land Area (Sq. Meters)</th>\n",
       "      <th>Land Area (Sq. Miles)</th>\n",
       "      <th>Land Area (Sq. Kilometers)</th>\n",
       "    </tr>\n",
       "  </thead>\n",
       "  <tbody>\n",
       "    <tr>\n",
       "      <th>0</th>\n",
       "      <td>98001</td>\n",
       "      <td>Algona, Auburn, Federal Way, Lakeland North, L...</td>\n",
       "      <td>King County</td>\n",
       "      <td>48,144,700</td>\n",
       "      <td>19</td>\n",
       "      <td>48</td>\n",
       "    </tr>\n",
       "    <tr>\n",
       "      <th>1</th>\n",
       "      <td>98002</td>\n",
       "      <td>Auburn, Pacific</td>\n",
       "      <td>King County</td>\n",
       "      <td>18,530,000</td>\n",
       "      <td>7</td>\n",
       "      <td>19</td>\n",
       "    </tr>\n",
       "    <tr>\n",
       "      <th>2</th>\n",
       "      <td>98003</td>\n",
       "      <td>Federal Way, Lakeland South, Milton</td>\n",
       "      <td>King County</td>\n",
       "      <td>30,089,500</td>\n",
       "      <td>12</td>\n",
       "      <td>30</td>\n",
       "    </tr>\n",
       "    <tr>\n",
       "      <th>3</th>\n",
       "      <td>98004</td>\n",
       "      <td>Beaux Arts Village, Bellevue, Clyde Hill, Hunt...</td>\n",
       "      <td>King County</td>\n",
       "      <td>18,200,300</td>\n",
       "      <td>7</td>\n",
       "      <td>18</td>\n",
       "    </tr>\n",
       "    <tr>\n",
       "      <th>4</th>\n",
       "      <td>98005</td>\n",
       "      <td>Bellevue</td>\n",
       "      <td>King County</td>\n",
       "      <td>19,429,600</td>\n",
       "      <td>8</td>\n",
       "      <td>19</td>\n",
       "    </tr>\n",
       "  </tbody>\n",
       "</table>\n",
       "</div>"
      ],
      "text/plain": [
       "   ZIP Code                                               City       County  \\\n",
       "0     98001  Algona, Auburn, Federal Way, Lakeland North, L...  King County   \n",
       "1     98002                                    Auburn, Pacific  King County   \n",
       "2     98003                Federal Way, Lakeland South, Milton  King County   \n",
       "3     98004  Beaux Arts Village, Bellevue, Clyde Hill, Hunt...  King County   \n",
       "4     98005                                           Bellevue  King County   \n",
       "\n",
       "  Land Area (Sq. Meters) Land Area (Sq. Miles) Land Area (Sq. Kilometers)  \n",
       "0             48,144,700                    19                         48  \n",
       "1             18,530,000                     7                         19  \n",
       "2             30,089,500                    12                         30  \n",
       "3             18,200,300                     7                         18  \n",
       "4             19,429,600                     8                         19  "
      ]
     },
     "execution_count": 106,
     "metadata": {},
     "output_type": "execute_result"
    }
   ],
   "source": [
    "areadf.head()"
   ]
  },
  {
   "cell_type": "code",
   "execution_count": 107,
   "metadata": {},
   "outputs": [],
   "source": [
    "king_pop = popdf[popdf[\"county\"]=='King']"
   ]
  },
  {
   "cell_type": "code",
   "execution_count": 108,
   "metadata": {},
   "outputs": [],
   "source": [
    "king_area = areadf[areadf[\"County\"]==\"King County\"]"
   ]
  },
  {
   "cell_type": "code",
   "execution_count": 109,
   "metadata": {},
   "outputs": [
    {
     "data": {
      "text/html": [
       "<div>\n",
       "<style scoped>\n",
       "    .dataframe tbody tr th:only-of-type {\n",
       "        vertical-align: middle;\n",
       "    }\n",
       "\n",
       "    .dataframe tbody tr th {\n",
       "        vertical-align: top;\n",
       "    }\n",
       "\n",
       "    .dataframe thead th {\n",
       "        text-align: right;\n",
       "    }\n",
       "</style>\n",
       "<table border=\"1\" class=\"dataframe\">\n",
       "  <thead>\n",
       "    <tr style=\"text-align: right;\">\n",
       "      <th></th>\n",
       "      <th>zip</th>\n",
       "      <th>city</th>\n",
       "      <th>county</th>\n",
       "      <th>pop</th>\n",
       "      <th>ZIP Code</th>\n",
       "      <th>City</th>\n",
       "      <th>County</th>\n",
       "      <th>Land Area (Sq. Meters)</th>\n",
       "      <th>Land Area (Sq. Miles)</th>\n",
       "      <th>Land Area (Sq. Kilometers)</th>\n",
       "    </tr>\n",
       "  </thead>\n",
       "  <tbody>\n",
       "    <tr>\n",
       "      <th>0</th>\n",
       "      <td>99301</td>\n",
       "      <td>Pasco</td>\n",
       "      <td>Franklin</td>\n",
       "      <td>79819</td>\n",
       "      <td>98001</td>\n",
       "      <td>Algona, Auburn, Federal Way, Lakeland North, L...</td>\n",
       "      <td>King County</td>\n",
       "      <td>48,144,700</td>\n",
       "      <td>19</td>\n",
       "      <td>48</td>\n",
       "    </tr>\n",
       "    <tr>\n",
       "      <th>1</th>\n",
       "      <td>98052</td>\n",
       "      <td>Redmond</td>\n",
       "      <td>King</td>\n",
       "      <td>70245</td>\n",
       "      <td>98002</td>\n",
       "      <td>Auburn, Pacific</td>\n",
       "      <td>King County</td>\n",
       "      <td>18,530,000</td>\n",
       "      <td>7</td>\n",
       "      <td>19</td>\n",
       "    </tr>\n",
       "    <tr>\n",
       "      <th>2</th>\n",
       "      <td>98012</td>\n",
       "      <td>Bothell</td>\n",
       "      <td>Snohomish</td>\n",
       "      <td>67427</td>\n",
       "      <td>98003</td>\n",
       "      <td>Federal Way, Lakeland South, Milton</td>\n",
       "      <td>King County</td>\n",
       "      <td>30,089,500</td>\n",
       "      <td>12</td>\n",
       "      <td>30</td>\n",
       "    </tr>\n",
       "    <tr>\n",
       "      <th>3</th>\n",
       "      <td>98682</td>\n",
       "      <td>Vancouver</td>\n",
       "      <td>Clark</td>\n",
       "      <td>60887</td>\n",
       "      <td>98004</td>\n",
       "      <td>Beaux Arts Village, Bellevue, Clyde Hill, Hunt...</td>\n",
       "      <td>King County</td>\n",
       "      <td>18,200,300</td>\n",
       "      <td>7</td>\n",
       "      <td>18</td>\n",
       "    </tr>\n",
       "    <tr>\n",
       "      <th>4</th>\n",
       "      <td>98208</td>\n",
       "      <td>Everett</td>\n",
       "      <td>Snohomish</td>\n",
       "      <td>58162</td>\n",
       "      <td>98005</td>\n",
       "      <td>Bellevue</td>\n",
       "      <td>King County</td>\n",
       "      <td>19,429,600</td>\n",
       "      <td>8</td>\n",
       "      <td>19</td>\n",
       "    </tr>\n",
       "    <tr>\n",
       "      <th>...</th>\n",
       "      <td>...</td>\n",
       "      <td>...</td>\n",
       "      <td>...</td>\n",
       "      <td>...</td>\n",
       "      <td>...</td>\n",
       "      <td>...</td>\n",
       "      <td>...</td>\n",
       "      <td>...</td>\n",
       "      <td>...</td>\n",
       "      <td>...</td>\n",
       "    </tr>\n",
       "    <tr>\n",
       "      <th>517</th>\n",
       "      <td>99124</td>\n",
       "      <td>Elmer City</td>\n",
       "      <td>Okanogan</td>\n",
       "      <td>271</td>\n",
       "      <td>99362</td>\n",
       "      <td>College Place, Garrett, Walla Walla, Walla Wal...</td>\n",
       "      <td>Umatilla County, Walla Walla County</td>\n",
       "      <td>740,792,000</td>\n",
       "      <td>286</td>\n",
       "      <td>741</td>\n",
       "    </tr>\n",
       "    <tr>\n",
       "      <th>518</th>\n",
       "      <td>98621</td>\n",
       "      <td>Grays River</td>\n",
       "      <td>Wahkiakum</td>\n",
       "      <td>269</td>\n",
       "      <td>99363</td>\n",
       "      <td>Wallula</td>\n",
       "      <td>Walla Walla County</td>\n",
       "      <td>115,344,000</td>\n",
       "      <td>45</td>\n",
       "      <td>115</td>\n",
       "    </tr>\n",
       "    <tr>\n",
       "      <th>519</th>\n",
       "      <td>98628</td>\n",
       "      <td>Klickitat</td>\n",
       "      <td>Klickitat</td>\n",
       "      <td>263</td>\n",
       "      <td>99371</td>\n",
       "      <td>Washtucna</td>\n",
       "      <td>Adams County, Franklin County</td>\n",
       "      <td>527,778,000</td>\n",
       "      <td>204</td>\n",
       "      <td>528</td>\n",
       "    </tr>\n",
       "    <tr>\n",
       "      <th>520</th>\n",
       "      <td>99322</td>\n",
       "      <td>Bickleton</td>\n",
       "      <td>Klickitat</td>\n",
       "      <td>242</td>\n",
       "      <td>99402</td>\n",
       "      <td>Asotin</td>\n",
       "      <td>Asotin County</td>\n",
       "      <td>741,921,000</td>\n",
       "      <td>286</td>\n",
       "      <td>742</td>\n",
       "    </tr>\n",
       "    <tr>\n",
       "      <th>521</th>\n",
       "      <td>98940</td>\n",
       "      <td>Ronald</td>\n",
       "      <td>Kittitas</td>\n",
       "      <td>241</td>\n",
       "      <td>99403</td>\n",
       "      <td>Asotin, Clarkston, Clarkston Heights-Vineland,...</td>\n",
       "      <td>Asotin County, Garfield County</td>\n",
       "      <td>395,975,000</td>\n",
       "      <td>153</td>\n",
       "      <td>396</td>\n",
       "    </tr>\n",
       "  </tbody>\n",
       "</table>\n",
       "<p>522 rows × 10 columns</p>\n",
       "</div>"
      ],
      "text/plain": [
       "       zip         city     county    pop  ZIP Code  \\\n",
       "0    99301        Pasco   Franklin  79819     98001   \n",
       "1    98052      Redmond       King  70245     98002   \n",
       "2    98012      Bothell  Snohomish  67427     98003   \n",
       "3    98682    Vancouver      Clark  60887     98004   \n",
       "4    98208      Everett  Snohomish  58162     98005   \n",
       "..     ...          ...        ...    ...       ...   \n",
       "517  99124   Elmer City   Okanogan    271     99362   \n",
       "518  98621  Grays River  Wahkiakum    269     99363   \n",
       "519  98628    Klickitat  Klickitat    263     99371   \n",
       "520  99322    Bickleton  Klickitat    242     99402   \n",
       "521  98940       Ronald   Kittitas    241     99403   \n",
       "\n",
       "                                                  City  \\\n",
       "0    Algona, Auburn, Federal Way, Lakeland North, L...   \n",
       "1                                      Auburn, Pacific   \n",
       "2                  Federal Way, Lakeland South, Milton   \n",
       "3    Beaux Arts Village, Bellevue, Clyde Hill, Hunt...   \n",
       "4                                             Bellevue   \n",
       "..                                                 ...   \n",
       "517  College Place, Garrett, Walla Walla, Walla Wal...   \n",
       "518                                            Wallula   \n",
       "519                                          Washtucna   \n",
       "520                                             Asotin   \n",
       "521  Asotin, Clarkston, Clarkston Heights-Vineland,...   \n",
       "\n",
       "                                  County Land Area (Sq. Meters)  \\\n",
       "0                            King County             48,144,700   \n",
       "1                            King County             18,530,000   \n",
       "2                            King County             30,089,500   \n",
       "3                            King County             18,200,300   \n",
       "4                            King County             19,429,600   \n",
       "..                                   ...                    ...   \n",
       "517  Umatilla County, Walla Walla County            740,792,000   \n",
       "518                   Walla Walla County            115,344,000   \n",
       "519        Adams County, Franklin County            527,778,000   \n",
       "520                        Asotin County            741,921,000   \n",
       "521       Asotin County, Garfield County            395,975,000   \n",
       "\n",
       "    Land Area (Sq. Miles) Land Area (Sq. Kilometers)  \n",
       "0                      19                         48  \n",
       "1                       7                         19  \n",
       "2                      12                         30  \n",
       "3                       7                         18  \n",
       "4                       8                         19  \n",
       "..                    ...                        ...  \n",
       "517                   286                        741  \n",
       "518                    45                        115  \n",
       "519                   204                        528  \n",
       "520                   286                        742  \n",
       "521                   153                        396  \n",
       "\n",
       "[522 rows x 10 columns]"
      ]
     },
     "execution_count": 109,
     "metadata": {},
     "output_type": "execute_result"
    }
   ],
   "source": [
    "pd.concat([popdf, areadf], axis=1, join=\"inner\")"
   ]
  },
  {
   "cell_type": "code",
   "execution_count": 110,
   "metadata": {},
   "outputs": [],
   "source": [
    "king_data = pd.merge(\n",
    "    king_area,\n",
    "    king_pop,\n",
    "    how=\"inner\",\n",
    "    on=None,\n",
    "    left_on=\"ZIP Code\",\n",
    "    right_on='zip',\n",
    "    left_index=False,\n",
    "    right_index=False,\n",
    "    sort=True,\n",
    "    suffixes=(\"_x\", \"_y\"),\n",
    "    copy=True,\n",
    "    indicator=False,\n",
    "    validate=None,\n",
    ")"
   ]
  },
  {
   "cell_type": "code",
   "execution_count": 111,
   "metadata": {},
   "outputs": [
    {
     "data": {
      "text/html": [
       "<div>\n",
       "<style scoped>\n",
       "    .dataframe tbody tr th:only-of-type {\n",
       "        vertical-align: middle;\n",
       "    }\n",
       "\n",
       "    .dataframe tbody tr th {\n",
       "        vertical-align: top;\n",
       "    }\n",
       "\n",
       "    .dataframe thead th {\n",
       "        text-align: right;\n",
       "    }\n",
       "</style>\n",
       "<table border=\"1\" class=\"dataframe\">\n",
       "  <thead>\n",
       "    <tr style=\"text-align: right;\">\n",
       "      <th></th>\n",
       "      <th>ZIP Code</th>\n",
       "      <th>City</th>\n",
       "      <th>County</th>\n",
       "      <th>Land Area (Sq. Meters)</th>\n",
       "      <th>Land Area (Sq. Miles)</th>\n",
       "      <th>Land Area (Sq. Kilometers)</th>\n",
       "      <th>zip</th>\n",
       "      <th>city</th>\n",
       "      <th>county</th>\n",
       "      <th>pop</th>\n",
       "    </tr>\n",
       "  </thead>\n",
       "  <tbody>\n",
       "    <tr>\n",
       "      <th>0</th>\n",
       "      <td>98001</td>\n",
       "      <td>Algona, Auburn, Federal Way, Lakeland North, L...</td>\n",
       "      <td>King County</td>\n",
       "      <td>48,144,700</td>\n",
       "      <td>19</td>\n",
       "      <td>48</td>\n",
       "      <td>98001</td>\n",
       "      <td>Auburn</td>\n",
       "      <td>King</td>\n",
       "      <td>33699</td>\n",
       "    </tr>\n",
       "    <tr>\n",
       "      <th>1</th>\n",
       "      <td>98002</td>\n",
       "      <td>Auburn, Pacific</td>\n",
       "      <td>King County</td>\n",
       "      <td>18,530,000</td>\n",
       "      <td>7</td>\n",
       "      <td>19</td>\n",
       "      <td>98002</td>\n",
       "      <td>Auburn</td>\n",
       "      <td>King</td>\n",
       "      <td>33468</td>\n",
       "    </tr>\n",
       "    <tr>\n",
       "      <th>2</th>\n",
       "      <td>98003</td>\n",
       "      <td>Federal Way, Lakeland South, Milton</td>\n",
       "      <td>King County</td>\n",
       "      <td>30,089,500</td>\n",
       "      <td>12</td>\n",
       "      <td>30</td>\n",
       "      <td>98003</td>\n",
       "      <td>Federal Way</td>\n",
       "      <td>King</td>\n",
       "      <td>49533</td>\n",
       "    </tr>\n",
       "    <tr>\n",
       "      <th>3</th>\n",
       "      <td>98004</td>\n",
       "      <td>Beaux Arts Village, Bellevue, Clyde Hill, Hunt...</td>\n",
       "      <td>King County</td>\n",
       "      <td>18,200,300</td>\n",
       "      <td>7</td>\n",
       "      <td>18</td>\n",
       "      <td>98004</td>\n",
       "      <td>Bellevue</td>\n",
       "      <td>King</td>\n",
       "      <td>36202</td>\n",
       "    </tr>\n",
       "    <tr>\n",
       "      <th>4</th>\n",
       "      <td>98005</td>\n",
       "      <td>Bellevue</td>\n",
       "      <td>King County</td>\n",
       "      <td>19,429,600</td>\n",
       "      <td>8</td>\n",
       "      <td>19</td>\n",
       "      <td>98005</td>\n",
       "      <td>Bellevue</td>\n",
       "      <td>King</td>\n",
       "      <td>19223</td>\n",
       "    </tr>\n",
       "  </tbody>\n",
       "</table>\n",
       "</div>"
      ],
      "text/plain": [
       "   ZIP Code                                               City       County  \\\n",
       "0     98001  Algona, Auburn, Federal Way, Lakeland North, L...  King County   \n",
       "1     98002                                    Auburn, Pacific  King County   \n",
       "2     98003                Federal Way, Lakeland South, Milton  King County   \n",
       "3     98004  Beaux Arts Village, Bellevue, Clyde Hill, Hunt...  King County   \n",
       "4     98005                                           Bellevue  King County   \n",
       "\n",
       "  Land Area (Sq. Meters) Land Area (Sq. Miles) Land Area (Sq. Kilometers)  \\\n",
       "0             48,144,700                    19                         48   \n",
       "1             18,530,000                     7                         19   \n",
       "2             30,089,500                    12                         30   \n",
       "3             18,200,300                     7                         18   \n",
       "4             19,429,600                     8                         19   \n",
       "\n",
       "     zip         city county    pop  \n",
       "0  98001       Auburn   King  33699  \n",
       "1  98002       Auburn   King  33468  \n",
       "2  98003  Federal Way   King  49533  \n",
       "3  98004     Bellevue   King  36202  \n",
       "4  98005     Bellevue   King  19223  "
      ]
     },
     "execution_count": 111,
     "metadata": {},
     "output_type": "execute_result"
    }
   ],
   "source": [
    "king_data.head()"
   ]
  },
  {
   "cell_type": "code",
   "execution_count": 112,
   "metadata": {},
   "outputs": [],
   "source": [
    "king_data_compact =king_data.drop(columns=['City','County','Land Area (Sq. Miles)','Land Area (Sq. Kilometers)','zip'])"
   ]
  },
  {
   "cell_type": "code",
   "execution_count": 113,
   "metadata": {},
   "outputs": [
    {
     "data": {
      "text/html": [
       "<div>\n",
       "<style scoped>\n",
       "    .dataframe tbody tr th:only-of-type {\n",
       "        vertical-align: middle;\n",
       "    }\n",
       "\n",
       "    .dataframe tbody tr th {\n",
       "        vertical-align: top;\n",
       "    }\n",
       "\n",
       "    .dataframe thead th {\n",
       "        text-align: right;\n",
       "    }\n",
       "</style>\n",
       "<table border=\"1\" class=\"dataframe\">\n",
       "  <thead>\n",
       "    <tr style=\"text-align: right;\">\n",
       "      <th></th>\n",
       "      <th>ZIP Code</th>\n",
       "      <th>Land Area (Sq. Meters)</th>\n",
       "      <th>city</th>\n",
       "      <th>county</th>\n",
       "      <th>pop</th>\n",
       "    </tr>\n",
       "  </thead>\n",
       "  <tbody>\n",
       "    <tr>\n",
       "      <th>0</th>\n",
       "      <td>98001</td>\n",
       "      <td>48,144,700</td>\n",
       "      <td>Auburn</td>\n",
       "      <td>King</td>\n",
       "      <td>33699</td>\n",
       "    </tr>\n",
       "    <tr>\n",
       "      <th>1</th>\n",
       "      <td>98002</td>\n",
       "      <td>18,530,000</td>\n",
       "      <td>Auburn</td>\n",
       "      <td>King</td>\n",
       "      <td>33468</td>\n",
       "    </tr>\n",
       "    <tr>\n",
       "      <th>2</th>\n",
       "      <td>98003</td>\n",
       "      <td>30,089,500</td>\n",
       "      <td>Federal Way</td>\n",
       "      <td>King</td>\n",
       "      <td>49533</td>\n",
       "    </tr>\n",
       "    <tr>\n",
       "      <th>3</th>\n",
       "      <td>98004</td>\n",
       "      <td>18,200,300</td>\n",
       "      <td>Bellevue</td>\n",
       "      <td>King</td>\n",
       "      <td>36202</td>\n",
       "    </tr>\n",
       "    <tr>\n",
       "      <th>4</th>\n",
       "      <td>98005</td>\n",
       "      <td>19,429,600</td>\n",
       "      <td>Bellevue</td>\n",
       "      <td>King</td>\n",
       "      <td>19223</td>\n",
       "    </tr>\n",
       "  </tbody>\n",
       "</table>\n",
       "</div>"
      ],
      "text/plain": [
       "   ZIP Code Land Area (Sq. Meters)         city county    pop\n",
       "0     98001             48,144,700       Auburn   King  33699\n",
       "1     98002             18,530,000       Auburn   King  33468\n",
       "2     98003             30,089,500  Federal Way   King  49533\n",
       "3     98004             18,200,300     Bellevue   King  36202\n",
       "4     98005             19,429,600     Bellevue   King  19223"
      ]
     },
     "execution_count": 113,
     "metadata": {},
     "output_type": "execute_result"
    }
   ],
   "source": [
    "king_data_compact.head()"
   ]
  },
  {
   "cell_type": "code",
   "execution_count": 114,
   "metadata": {},
   "outputs": [
    {
     "name": "stdout",
     "output_type": "stream",
     "text": [
      "<class 'pandas.core.frame.DataFrame'>\n",
      "Int64Index: 78 entries, 0 to 77\n",
      "Data columns (total 5 columns):\n",
      " #   Column                  Non-Null Count  Dtype \n",
      "---  ------                  --------------  ----- \n",
      " 0   ZIP Code                78 non-null     int64 \n",
      " 1   Land Area (Sq. Meters)  78 non-null     object\n",
      " 2   city                    78 non-null     object\n",
      " 3   county                  78 non-null     object\n",
      " 4   pop                     78 non-null     int64 \n",
      "dtypes: int64(2), object(3)\n",
      "memory usage: 3.7+ KB\n"
     ]
    }
   ],
   "source": [
    "king_data_compact.info()"
   ]
  },
  {
   "cell_type": "code",
   "execution_count": 115,
   "metadata": {},
   "outputs": [
    {
     "name": "stdout",
     "output_type": "stream",
     "text": [
      "48,144,700\n",
      "18,530,000\n",
      "30,089,500\n",
      "18,200,300\n",
      "19,429,600\n",
      "27,685,300\n",
      "11,341,200\n",
      "14,250,600\n",
      "38,991,700\n",
      "21,201,100\n",
      "117,347,000\n",
      "197,688,000\n",
      "26,727,700\n",
      "61,945,400\n",
      "144,495,000\n",
      "14,667,600\n",
      "23,189,900\n",
      "19,424,900\n",
      "43,315,900\n",
      "24,062,600\n",
      "23,633,800\n",
      "172,207,000\n",
      "3,737,880\n",
      "16,370,400\n",
      "73,577,400\n",
      "872,796,000\n",
      "132,339,000\n",
      "52,054,000\n",
      "73,465,100\n",
      "12,374,000\n",
      "19,466,200\n",
      "15,780,800\n",
      "49,037,400\n",
      "51,737,400\n",
      "191,905,000\n",
      "95,633,800\n",
      "27,654,800\n",
      "24,552,300\n",
      "1,344,750\n",
      "3,396,110\n",
      "12,005,500\n",
      "2,007,030\n",
      "10,689,300\n",
      "14,236,500\n",
      "5,704,030\n",
      "19,384,700\n",
      "5,178,190\n",
      "8,187,980\n",
      "17,051,600\n",
      "7,657,200\n",
      "10,214,500\n",
      "16,178,200\n",
      "6,308,530\n",
      "1,141,210\n",
      "5,992,910\n",
      "13,960,900\n",
      "7,963,650\n",
      "18,379,000\n",
      "8,738,520\n",
      "5,954,030\n",
      "8,818,480\n",
      "12,045,900\n",
      "8,117,260\n",
      "9,147\n",
      "19,604,400\n",
      "5,726,910\n",
      "9,165\n",
      "14,685,900\n",
      "23,030,100\n",
      "9,145\n",
      "14,752,900\n",
      "12,564,300\n",
      "19,551,300\n",
      "183,452\n",
      "20,167,200\n",
      "10,815,400\n",
      "510,454,000\n",
      "547,876,000\n"
     ]
    }
   ],
   "source": [
    "for x in king_data_compact['Land Area (Sq. Meters)']:\n",
    "    x.replace(\",\",'')\n",
    "    print(x)\n",
    "    #int(x)"
   ]
  },
  {
   "cell_type": "code",
   "execution_count": 116,
   "metadata": {},
   "outputs": [],
   "source": [
    "def remove_chars(ds,char):\n",
    "    \"\"\"\n",
    "    remove characters from the data series\n",
    "    -\n",
    "    ds: data series, lists. Element in data series or list must be a string.\n",
    "    char: character to be removed. Accepts lists\n",
    "    \"\"\"\n",
    "    for char in char:\n",
    "        idx = 0\n",
    "        for row in ds:\n",
    "            if char in row:\n",
    "                ds[idx] = row.replace(char,\"\")\n",
    "            idx +=1\n",
    "    return ds"
   ]
  },
  {
   "cell_type": "code",
   "execution_count": 117,
   "metadata": {},
   "outputs": [
    {
     "name": "stderr",
     "output_type": "stream",
     "text": [
      "<ipython-input-116-968c3d56aa1e>:12: SettingWithCopyWarning: \n",
      "A value is trying to be set on a copy of a slice from a DataFrame\n",
      "\n",
      "See the caveats in the documentation: https://pandas.pydata.org/pandas-docs/stable/user_guide/indexing.html#returning-a-view-versus-a-copy\n",
      "  ds[idx] = row.replace(char,\"\")\n"
     ]
    },
    {
     "data": {
      "text/plain": [
       "0      48144700\n",
       "1      18530000\n",
       "2      30089500\n",
       "3      18200300\n",
       "4      19429600\n",
       "        ...    \n",
       "73       183452\n",
       "74     20167200\n",
       "75     10815400\n",
       "76    510454000\n",
       "77    547876000\n",
       "Name: Land Area (Sq. Meters), Length: 78, dtype: object"
      ]
     },
     "execution_count": 117,
     "metadata": {},
     "output_type": "execute_result"
    }
   ],
   "source": [
    "remove_chars(king_data_compact[\"Land Area (Sq. Meters)\"],',')"
   ]
  },
  {
   "cell_type": "code",
   "execution_count": 118,
   "metadata": {},
   "outputs": [],
   "source": [
    "king_data_compact['Land Area (Sq. Meters)']= king_data_compact['Land Area (Sq. Meters)'].astype(int)"
   ]
  },
  {
   "cell_type": "code",
   "execution_count": 119,
   "metadata": {},
   "outputs": [
    {
     "name": "stdout",
     "output_type": "stream",
     "text": [
      "<class 'pandas.core.frame.DataFrame'>\n",
      "Int64Index: 78 entries, 0 to 77\n",
      "Data columns (total 5 columns):\n",
      " #   Column                  Non-Null Count  Dtype \n",
      "---  ------                  --------------  ----- \n",
      " 0   ZIP Code                78 non-null     int64 \n",
      " 1   Land Area (Sq. Meters)  78 non-null     int64 \n",
      " 2   city                    78 non-null     object\n",
      " 3   county                  78 non-null     object\n",
      " 4   pop                     78 non-null     int64 \n",
      "dtypes: int64(3), object(2)\n",
      "memory usage: 6.2+ KB\n"
     ]
    }
   ],
   "source": [
    "king_data_compact.info()"
   ]
  },
  {
   "cell_type": "code",
   "execution_count": 120,
   "metadata": {},
   "outputs": [],
   "source": [
    "king_data_compact['density'] = king_data_compact['pop'] / king_data_compact['Land Area (Sq. Meters)']"
   ]
  },
  {
   "cell_type": "code",
   "execution_count": 121,
   "metadata": {},
   "outputs": [
    {
     "data": {
      "text/html": [
       "<div>\n",
       "<style scoped>\n",
       "    .dataframe tbody tr th:only-of-type {\n",
       "        vertical-align: middle;\n",
       "    }\n",
       "\n",
       "    .dataframe tbody tr th {\n",
       "        vertical-align: top;\n",
       "    }\n",
       "\n",
       "    .dataframe thead th {\n",
       "        text-align: right;\n",
       "    }\n",
       "</style>\n",
       "<table border=\"1\" class=\"dataframe\">\n",
       "  <thead>\n",
       "    <tr style=\"text-align: right;\">\n",
       "      <th></th>\n",
       "      <th>ZIP Code</th>\n",
       "      <th>Land Area (Sq. Meters)</th>\n",
       "      <th>city</th>\n",
       "      <th>county</th>\n",
       "      <th>pop</th>\n",
       "      <th>density</th>\n",
       "    </tr>\n",
       "  </thead>\n",
       "  <tbody>\n",
       "    <tr>\n",
       "      <th>0</th>\n",
       "      <td>98001</td>\n",
       "      <td>48144700</td>\n",
       "      <td>Auburn</td>\n",
       "      <td>King</td>\n",
       "      <td>33699</td>\n",
       "      <td>0.000700</td>\n",
       "    </tr>\n",
       "    <tr>\n",
       "      <th>1</th>\n",
       "      <td>98002</td>\n",
       "      <td>18530000</td>\n",
       "      <td>Auburn</td>\n",
       "      <td>King</td>\n",
       "      <td>33468</td>\n",
       "      <td>0.001806</td>\n",
       "    </tr>\n",
       "    <tr>\n",
       "      <th>2</th>\n",
       "      <td>98003</td>\n",
       "      <td>30089500</td>\n",
       "      <td>Federal Way</td>\n",
       "      <td>King</td>\n",
       "      <td>49533</td>\n",
       "      <td>0.001646</td>\n",
       "    </tr>\n",
       "    <tr>\n",
       "      <th>3</th>\n",
       "      <td>98004</td>\n",
       "      <td>18200300</td>\n",
       "      <td>Bellevue</td>\n",
       "      <td>King</td>\n",
       "      <td>36202</td>\n",
       "      <td>0.001989</td>\n",
       "    </tr>\n",
       "    <tr>\n",
       "      <th>4</th>\n",
       "      <td>98005</td>\n",
       "      <td>19429600</td>\n",
       "      <td>Bellevue</td>\n",
       "      <td>King</td>\n",
       "      <td>19223</td>\n",
       "      <td>0.000989</td>\n",
       "    </tr>\n",
       "  </tbody>\n",
       "</table>\n",
       "</div>"
      ],
      "text/plain": [
       "   ZIP Code  Land Area (Sq. Meters)         city county    pop   density\n",
       "0     98001                48144700       Auburn   King  33699  0.000700\n",
       "1     98002                18530000       Auburn   King  33468  0.001806\n",
       "2     98003                30089500  Federal Way   King  49533  0.001646\n",
       "3     98004                18200300     Bellevue   King  36202  0.001989\n",
       "4     98005                19429600     Bellevue   King  19223  0.000989"
      ]
     },
     "execution_count": 121,
     "metadata": {},
     "output_type": "execute_result"
    }
   ],
   "source": [
    "king_data_compact.head()"
   ]
  },
  {
   "cell_type": "code",
   "execution_count": 122,
   "metadata": {},
   "outputs": [],
   "source": [
    "merged_king_data = pd.merge(\n",
    "    house,\n",
    "    king_data_compact,\n",
    "    how=\"inner\",\n",
    "    on=None,\n",
    "    left_on=\"zipcode\",\n",
    "    right_on='ZIP Code',\n",
    "    left_index=False,\n",
    "    right_index=False,\n",
    "    sort=True,\n",
    "    suffixes=(\"_x\", \"_y\"),\n",
    "    copy=True,\n",
    "    indicator=False,\n",
    "    validate=None,\n",
    ")"
   ]
  },
  {
   "cell_type": "code",
   "execution_count": 123,
   "metadata": {},
   "outputs": [
    {
     "name": "stdout",
     "output_type": "stream",
     "text": [
      "<class 'pandas.core.frame.DataFrame'>\n",
      "Int64Index: 20228 entries, 0 to 20227\n",
      "Data columns (total 23 columns):\n",
      " #   Column                  Non-Null Count  Dtype  \n",
      "---  ------                  --------------  -----  \n",
      " 0   price                   20228 non-null  float64\n",
      " 1   bedrooms                20228 non-null  int64  \n",
      " 2   bathrooms               20228 non-null  float64\n",
      " 3   sqft_living             20228 non-null  int64  \n",
      " 4   sqft_lot                20228 non-null  int64  \n",
      " 5   floors                  20228 non-null  float64\n",
      " 6   waterfront              20228 non-null  int64  \n",
      " 7   view                    20228 non-null  object \n",
      " 8   condition               20228 non-null  object \n",
      " 9   grade                   20228 non-null  int64  \n",
      " 10  sqft_above              20228 non-null  int64  \n",
      " 11  yr_built                20228 non-null  int64  \n",
      " 12  zipcode                 20228 non-null  object \n",
      " 13  lat                     20228 non-null  float64\n",
      " 14  long                    20228 non-null  float64\n",
      " 15  sqft_living15           20228 non-null  int64  \n",
      " 16  sqft_lot15              20228 non-null  int64  \n",
      " 17  ZIP Code                20228 non-null  int64  \n",
      " 18  Land Area (Sq. Meters)  20228 non-null  int64  \n",
      " 19  city                    20228 non-null  object \n",
      " 20  county                  20228 non-null  object \n",
      " 21  pop                     20228 non-null  int64  \n",
      " 22  density                 20228 non-null  float64\n",
      "dtypes: float64(6), int64(12), object(5)\n",
      "memory usage: 3.7+ MB\n"
     ]
    }
   ],
   "source": [
    "merged_king_data.info()"
   ]
  },
  {
   "cell_type": "code",
   "execution_count": 124,
   "metadata": {},
   "outputs": [
    {
     "data": {
      "text/html": [
       "<div>\n",
       "<style scoped>\n",
       "    .dataframe tbody tr th:only-of-type {\n",
       "        vertical-align: middle;\n",
       "    }\n",
       "\n",
       "    .dataframe tbody tr th {\n",
       "        vertical-align: top;\n",
       "    }\n",
       "\n",
       "    .dataframe thead th {\n",
       "        text-align: right;\n",
       "    }\n",
       "</style>\n",
       "<table border=\"1\" class=\"dataframe\">\n",
       "  <thead>\n",
       "    <tr style=\"text-align: right;\">\n",
       "      <th></th>\n",
       "      <th>price</th>\n",
       "      <th>bedrooms</th>\n",
       "      <th>bathrooms</th>\n",
       "      <th>sqft_living</th>\n",
       "      <th>sqft_lot</th>\n",
       "      <th>floors</th>\n",
       "      <th>waterfront</th>\n",
       "      <th>view</th>\n",
       "      <th>condition</th>\n",
       "      <th>grade</th>\n",
       "      <th>...</th>\n",
       "      <th>lat</th>\n",
       "      <th>long</th>\n",
       "      <th>sqft_living15</th>\n",
       "      <th>sqft_lot15</th>\n",
       "      <th>ZIP Code</th>\n",
       "      <th>Land Area (Sq. Meters)</th>\n",
       "      <th>city</th>\n",
       "      <th>county</th>\n",
       "      <th>pop</th>\n",
       "      <th>density</th>\n",
       "    </tr>\n",
       "  </thead>\n",
       "  <tbody>\n",
       "    <tr>\n",
       "      <th>0</th>\n",
       "      <td>240000.0</td>\n",
       "      <td>4</td>\n",
       "      <td>1.0</td>\n",
       "      <td>1220</td>\n",
       "      <td>8075</td>\n",
       "      <td>1.0</td>\n",
       "      <td>0</td>\n",
       "      <td>NONE</td>\n",
       "      <td>Fair</td>\n",
       "      <td>7</td>\n",
       "      <td>...</td>\n",
       "      <td>47.3341</td>\n",
       "      <td>-122.282</td>\n",
       "      <td>1290</td>\n",
       "      <td>7800</td>\n",
       "      <td>98001</td>\n",
       "      <td>48144700</td>\n",
       "      <td>Auburn</td>\n",
       "      <td>King</td>\n",
       "      <td>33699</td>\n",
       "      <td>0.0007</td>\n",
       "    </tr>\n",
       "    <tr>\n",
       "      <th>1</th>\n",
       "      <td>287000.0</td>\n",
       "      <td>4</td>\n",
       "      <td>2.5</td>\n",
       "      <td>2240</td>\n",
       "      <td>4648</td>\n",
       "      <td>2.0</td>\n",
       "      <td>0</td>\n",
       "      <td>NONE</td>\n",
       "      <td>Average</td>\n",
       "      <td>7</td>\n",
       "      <td>...</td>\n",
       "      <td>47.3378</td>\n",
       "      <td>-122.257</td>\n",
       "      <td>2221</td>\n",
       "      <td>4557</td>\n",
       "      <td>98001</td>\n",
       "      <td>48144700</td>\n",
       "      <td>Auburn</td>\n",
       "      <td>King</td>\n",
       "      <td>33699</td>\n",
       "      <td>0.0007</td>\n",
       "    </tr>\n",
       "    <tr>\n",
       "      <th>2</th>\n",
       "      <td>465000.0</td>\n",
       "      <td>3</td>\n",
       "      <td>2.5</td>\n",
       "      <td>2714</td>\n",
       "      <td>17936</td>\n",
       "      <td>2.0</td>\n",
       "      <td>0</td>\n",
       "      <td>NONE</td>\n",
       "      <td>Average</td>\n",
       "      <td>9</td>\n",
       "      <td>...</td>\n",
       "      <td>47.3185</td>\n",
       "      <td>-122.275</td>\n",
       "      <td>2590</td>\n",
       "      <td>18386</td>\n",
       "      <td>98001</td>\n",
       "      <td>48144700</td>\n",
       "      <td>Auburn</td>\n",
       "      <td>King</td>\n",
       "      <td>33699</td>\n",
       "      <td>0.0007</td>\n",
       "    </tr>\n",
       "    <tr>\n",
       "      <th>3</th>\n",
       "      <td>360000.0</td>\n",
       "      <td>4</td>\n",
       "      <td>2.5</td>\n",
       "      <td>2160</td>\n",
       "      <td>9528</td>\n",
       "      <td>2.0</td>\n",
       "      <td>0</td>\n",
       "      <td>NONE</td>\n",
       "      <td>Average</td>\n",
       "      <td>9</td>\n",
       "      <td>...</td>\n",
       "      <td>47.3341</td>\n",
       "      <td>-122.255</td>\n",
       "      <td>2280</td>\n",
       "      <td>9937</td>\n",
       "      <td>98001</td>\n",
       "      <td>48144700</td>\n",
       "      <td>Auburn</td>\n",
       "      <td>King</td>\n",
       "      <td>33699</td>\n",
       "      <td>0.0007</td>\n",
       "    </tr>\n",
       "    <tr>\n",
       "      <th>4</th>\n",
       "      <td>230000.0</td>\n",
       "      <td>3</td>\n",
       "      <td>2.0</td>\n",
       "      <td>1450</td>\n",
       "      <td>11204</td>\n",
       "      <td>1.0</td>\n",
       "      <td>0</td>\n",
       "      <td>NONE</td>\n",
       "      <td>Average</td>\n",
       "      <td>7</td>\n",
       "      <td>...</td>\n",
       "      <td>47.2639</td>\n",
       "      <td>-122.252</td>\n",
       "      <td>1520</td>\n",
       "      <td>9518</td>\n",
       "      <td>98001</td>\n",
       "      <td>48144700</td>\n",
       "      <td>Auburn</td>\n",
       "      <td>King</td>\n",
       "      <td>33699</td>\n",
       "      <td>0.0007</td>\n",
       "    </tr>\n",
       "  </tbody>\n",
       "</table>\n",
       "<p>5 rows × 23 columns</p>\n",
       "</div>"
      ],
      "text/plain": [
       "      price  bedrooms  bathrooms  sqft_living  sqft_lot  floors  waterfront  \\\n",
       "0  240000.0         4        1.0         1220      8075     1.0           0   \n",
       "1  287000.0         4        2.5         2240      4648     2.0           0   \n",
       "2  465000.0         3        2.5         2714     17936     2.0           0   \n",
       "3  360000.0         4        2.5         2160      9528     2.0           0   \n",
       "4  230000.0         3        2.0         1450     11204     1.0           0   \n",
       "\n",
       "   view condition  grade  ...      lat     long sqft_living15  sqft_lot15  \\\n",
       "0  NONE      Fair      7  ...  47.3341 -122.282          1290        7800   \n",
       "1  NONE   Average      7  ...  47.3378 -122.257          2221        4557   \n",
       "2  NONE   Average      9  ...  47.3185 -122.275          2590       18386   \n",
       "3  NONE   Average      9  ...  47.3341 -122.255          2280        9937   \n",
       "4  NONE   Average      7  ...  47.2639 -122.252          1520        9518   \n",
       "\n",
       "   ZIP Code  Land Area (Sq. Meters)    city  county    pop density  \n",
       "0     98001                48144700  Auburn    King  33699  0.0007  \n",
       "1     98001                48144700  Auburn    King  33699  0.0007  \n",
       "2     98001                48144700  Auburn    King  33699  0.0007  \n",
       "3     98001                48144700  Auburn    King  33699  0.0007  \n",
       "4     98001                48144700  Auburn    King  33699  0.0007  \n",
       "\n",
       "[5 rows x 23 columns]"
      ]
     },
     "execution_count": 124,
     "metadata": {},
     "output_type": "execute_result"
    }
   ],
   "source": [
    "merged_king_data.head()"
   ]
  },
  {
   "cell_type": "code",
   "execution_count": 125,
   "metadata": {},
   "outputs": [
    {
     "data": {
      "text/plain": [
       "0        True\n",
       "1        True\n",
       "2        True\n",
       "3        True\n",
       "4        True\n",
       "         ... \n",
       "20223    True\n",
       "20224    True\n",
       "20225    True\n",
       "20226    True\n",
       "20227    True\n",
       "Length: 20228, dtype: bool"
      ]
     },
     "execution_count": 125,
     "metadata": {},
     "output_type": "execute_result"
    }
   ],
   "source": [
    "merged_king_data['zipcode']== merged_king_data[\"ZIP Code\"]"
   ]
  },
  {
   "cell_type": "code",
   "execution_count": 126,
   "metadata": {},
   "outputs": [],
   "source": [
    "#merged_king_data.to_csv('./data/merged.csv',index= False)"
   ]
  },
  {
   "cell_type": "code",
   "execution_count": null,
   "metadata": {},
   "outputs": [],
   "source": []
  },
  {
   "cell_type": "code",
   "execution_count": 127,
   "metadata": {},
   "outputs": [
    {
     "data": {
      "text/html": [
       "<div>\n",
       "<style scoped>\n",
       "    .dataframe tbody tr th:only-of-type {\n",
       "        vertical-align: middle;\n",
       "    }\n",
       "\n",
       "    .dataframe tbody tr th {\n",
       "        vertical-align: top;\n",
       "    }\n",
       "\n",
       "    .dataframe thead th {\n",
       "        text-align: right;\n",
       "    }\n",
       "</style>\n",
       "<table border=\"1\" class=\"dataframe\">\n",
       "  <thead>\n",
       "    <tr style=\"text-align: right;\">\n",
       "      <th></th>\n",
       "      <th>price</th>\n",
       "      <th>bedrooms</th>\n",
       "      <th>bathrooms</th>\n",
       "      <th>sqft_living</th>\n",
       "      <th>sqft_lot</th>\n",
       "      <th>floors</th>\n",
       "      <th>waterfront</th>\n",
       "      <th>view</th>\n",
       "      <th>condition</th>\n",
       "      <th>grade</th>\n",
       "      <th>...</th>\n",
       "      <th>lat</th>\n",
       "      <th>long</th>\n",
       "      <th>sqft_living15</th>\n",
       "      <th>sqft_lot15</th>\n",
       "      <th>ZIP Code</th>\n",
       "      <th>Land Area (Sq. Meters)</th>\n",
       "      <th>city</th>\n",
       "      <th>county</th>\n",
       "      <th>pop</th>\n",
       "      <th>density</th>\n",
       "    </tr>\n",
       "  </thead>\n",
       "  <tbody>\n",
       "    <tr>\n",
       "      <th>0</th>\n",
       "      <td>240000.0</td>\n",
       "      <td>4</td>\n",
       "      <td>1.00</td>\n",
       "      <td>1220</td>\n",
       "      <td>8075</td>\n",
       "      <td>1.0</td>\n",
       "      <td>0</td>\n",
       "      <td>NONE</td>\n",
       "      <td>Fair</td>\n",
       "      <td>7</td>\n",
       "      <td>...</td>\n",
       "      <td>47.3341</td>\n",
       "      <td>-122.282</td>\n",
       "      <td>1290</td>\n",
       "      <td>7800</td>\n",
       "      <td>98001</td>\n",
       "      <td>48144700</td>\n",
       "      <td>Auburn</td>\n",
       "      <td>King</td>\n",
       "      <td>33699</td>\n",
       "      <td>0.000700</td>\n",
       "    </tr>\n",
       "    <tr>\n",
       "      <th>1</th>\n",
       "      <td>287000.0</td>\n",
       "      <td>4</td>\n",
       "      <td>2.50</td>\n",
       "      <td>2240</td>\n",
       "      <td>4648</td>\n",
       "      <td>2.0</td>\n",
       "      <td>0</td>\n",
       "      <td>NONE</td>\n",
       "      <td>Average</td>\n",
       "      <td>7</td>\n",
       "      <td>...</td>\n",
       "      <td>47.3378</td>\n",
       "      <td>-122.257</td>\n",
       "      <td>2221</td>\n",
       "      <td>4557</td>\n",
       "      <td>98001</td>\n",
       "      <td>48144700</td>\n",
       "      <td>Auburn</td>\n",
       "      <td>King</td>\n",
       "      <td>33699</td>\n",
       "      <td>0.000700</td>\n",
       "    </tr>\n",
       "    <tr>\n",
       "      <th>2</th>\n",
       "      <td>465000.0</td>\n",
       "      <td>3</td>\n",
       "      <td>2.50</td>\n",
       "      <td>2714</td>\n",
       "      <td>17936</td>\n",
       "      <td>2.0</td>\n",
       "      <td>0</td>\n",
       "      <td>NONE</td>\n",
       "      <td>Average</td>\n",
       "      <td>9</td>\n",
       "      <td>...</td>\n",
       "      <td>47.3185</td>\n",
       "      <td>-122.275</td>\n",
       "      <td>2590</td>\n",
       "      <td>18386</td>\n",
       "      <td>98001</td>\n",
       "      <td>48144700</td>\n",
       "      <td>Auburn</td>\n",
       "      <td>King</td>\n",
       "      <td>33699</td>\n",
       "      <td>0.000700</td>\n",
       "    </tr>\n",
       "    <tr>\n",
       "      <th>3</th>\n",
       "      <td>360000.0</td>\n",
       "      <td>4</td>\n",
       "      <td>2.50</td>\n",
       "      <td>2160</td>\n",
       "      <td>9528</td>\n",
       "      <td>2.0</td>\n",
       "      <td>0</td>\n",
       "      <td>NONE</td>\n",
       "      <td>Average</td>\n",
       "      <td>9</td>\n",
       "      <td>...</td>\n",
       "      <td>47.3341</td>\n",
       "      <td>-122.255</td>\n",
       "      <td>2280</td>\n",
       "      <td>9937</td>\n",
       "      <td>98001</td>\n",
       "      <td>48144700</td>\n",
       "      <td>Auburn</td>\n",
       "      <td>King</td>\n",
       "      <td>33699</td>\n",
       "      <td>0.000700</td>\n",
       "    </tr>\n",
       "    <tr>\n",
       "      <th>4</th>\n",
       "      <td>230000.0</td>\n",
       "      <td>3</td>\n",
       "      <td>2.00</td>\n",
       "      <td>1450</td>\n",
       "      <td>11204</td>\n",
       "      <td>1.0</td>\n",
       "      <td>0</td>\n",
       "      <td>NONE</td>\n",
       "      <td>Average</td>\n",
       "      <td>7</td>\n",
       "      <td>...</td>\n",
       "      <td>47.2639</td>\n",
       "      <td>-122.252</td>\n",
       "      <td>1520</td>\n",
       "      <td>9518</td>\n",
       "      <td>98001</td>\n",
       "      <td>48144700</td>\n",
       "      <td>Auburn</td>\n",
       "      <td>King</td>\n",
       "      <td>33699</td>\n",
       "      <td>0.000700</td>\n",
       "    </tr>\n",
       "    <tr>\n",
       "      <th>...</th>\n",
       "      <td>...</td>\n",
       "      <td>...</td>\n",
       "      <td>...</td>\n",
       "      <td>...</td>\n",
       "      <td>...</td>\n",
       "      <td>...</td>\n",
       "      <td>...</td>\n",
       "      <td>...</td>\n",
       "      <td>...</td>\n",
       "      <td>...</td>\n",
       "      <td>...</td>\n",
       "      <td>...</td>\n",
       "      <td>...</td>\n",
       "      <td>...</td>\n",
       "      <td>...</td>\n",
       "      <td>...</td>\n",
       "      <td>...</td>\n",
       "      <td>...</td>\n",
       "      <td>...</td>\n",
       "      <td>...</td>\n",
       "      <td>...</td>\n",
       "    </tr>\n",
       "    <tr>\n",
       "      <th>20223</th>\n",
       "      <td>570000.0</td>\n",
       "      <td>3</td>\n",
       "      <td>3.25</td>\n",
       "      <td>1550</td>\n",
       "      <td>1280</td>\n",
       "      <td>2.0</td>\n",
       "      <td>0</td>\n",
       "      <td>NONE</td>\n",
       "      <td>Average</td>\n",
       "      <td>9</td>\n",
       "      <td>...</td>\n",
       "      <td>47.6493</td>\n",
       "      <td>-122.384</td>\n",
       "      <td>1550</td>\n",
       "      <td>1579</td>\n",
       "      <td>98199</td>\n",
       "      <td>10815400</td>\n",
       "      <td>Seattle</td>\n",
       "      <td>King</td>\n",
       "      <td>22720</td>\n",
       "      <td>0.002101</td>\n",
       "    </tr>\n",
       "    <tr>\n",
       "      <th>20224</th>\n",
       "      <td>1110000.0</td>\n",
       "      <td>4</td>\n",
       "      <td>3.50</td>\n",
       "      <td>3660</td>\n",
       "      <td>4760</td>\n",
       "      <td>2.0</td>\n",
       "      <td>0</td>\n",
       "      <td>NONE</td>\n",
       "      <td>Average</td>\n",
       "      <td>9</td>\n",
       "      <td>...</td>\n",
       "      <td>47.6482</td>\n",
       "      <td>-122.409</td>\n",
       "      <td>3210</td>\n",
       "      <td>4640</td>\n",
       "      <td>98199</td>\n",
       "      <td>10815400</td>\n",
       "      <td>Seattle</td>\n",
       "      <td>King</td>\n",
       "      <td>22720</td>\n",
       "      <td>0.002101</td>\n",
       "    </tr>\n",
       "    <tr>\n",
       "      <th>20225</th>\n",
       "      <td>1010000.0</td>\n",
       "      <td>4</td>\n",
       "      <td>3.25</td>\n",
       "      <td>3610</td>\n",
       "      <td>4000</td>\n",
       "      <td>2.0</td>\n",
       "      <td>0</td>\n",
       "      <td>NONE</td>\n",
       "      <td>Average</td>\n",
       "      <td>9</td>\n",
       "      <td>...</td>\n",
       "      <td>47.6580</td>\n",
       "      <td>-122.396</td>\n",
       "      <td>1980</td>\n",
       "      <td>4000</td>\n",
       "      <td>98199</td>\n",
       "      <td>10815400</td>\n",
       "      <td>Seattle</td>\n",
       "      <td>King</td>\n",
       "      <td>22720</td>\n",
       "      <td>0.002101</td>\n",
       "    </tr>\n",
       "    <tr>\n",
       "      <th>20226</th>\n",
       "      <td>453000.0</td>\n",
       "      <td>3</td>\n",
       "      <td>2.50</td>\n",
       "      <td>1510</td>\n",
       "      <td>1618</td>\n",
       "      <td>2.5</td>\n",
       "      <td>0</td>\n",
       "      <td>NONE</td>\n",
       "      <td>Average</td>\n",
       "      <td>8</td>\n",
       "      <td>...</td>\n",
       "      <td>47.6515</td>\n",
       "      <td>-122.384</td>\n",
       "      <td>1350</td>\n",
       "      <td>1397</td>\n",
       "      <td>98199</td>\n",
       "      <td>10815400</td>\n",
       "      <td>Seattle</td>\n",
       "      <td>King</td>\n",
       "      <td>22720</td>\n",
       "      <td>0.002101</td>\n",
       "    </tr>\n",
       "    <tr>\n",
       "      <th>20227</th>\n",
       "      <td>549000.0</td>\n",
       "      <td>3</td>\n",
       "      <td>2.25</td>\n",
       "      <td>1230</td>\n",
       "      <td>1380</td>\n",
       "      <td>3.0</td>\n",
       "      <td>0</td>\n",
       "      <td>NONE</td>\n",
       "      <td>Average</td>\n",
       "      <td>8</td>\n",
       "      <td>...</td>\n",
       "      <td>47.6521</td>\n",
       "      <td>-122.400</td>\n",
       "      <td>1760</td>\n",
       "      <td>5664</td>\n",
       "      <td>98199</td>\n",
       "      <td>10815400</td>\n",
       "      <td>Seattle</td>\n",
       "      <td>King</td>\n",
       "      <td>22720</td>\n",
       "      <td>0.002101</td>\n",
       "    </tr>\n",
       "  </tbody>\n",
       "</table>\n",
       "<p>20228 rows × 23 columns</p>\n",
       "</div>"
      ],
      "text/plain": [
       "           price  bedrooms  bathrooms  sqft_living  sqft_lot  floors  \\\n",
       "0       240000.0         4       1.00         1220      8075     1.0   \n",
       "1       287000.0         4       2.50         2240      4648     2.0   \n",
       "2       465000.0         3       2.50         2714     17936     2.0   \n",
       "3       360000.0         4       2.50         2160      9528     2.0   \n",
       "4       230000.0         3       2.00         1450     11204     1.0   \n",
       "...          ...       ...        ...          ...       ...     ...   \n",
       "20223   570000.0         3       3.25         1550      1280     2.0   \n",
       "20224  1110000.0         4       3.50         3660      4760     2.0   \n",
       "20225  1010000.0         4       3.25         3610      4000     2.0   \n",
       "20226   453000.0         3       2.50         1510      1618     2.5   \n",
       "20227   549000.0         3       2.25         1230      1380     3.0   \n",
       "\n",
       "       waterfront  view condition  grade  ...      lat     long sqft_living15  \\\n",
       "0               0  NONE      Fair      7  ...  47.3341 -122.282          1290   \n",
       "1               0  NONE   Average      7  ...  47.3378 -122.257          2221   \n",
       "2               0  NONE   Average      9  ...  47.3185 -122.275          2590   \n",
       "3               0  NONE   Average      9  ...  47.3341 -122.255          2280   \n",
       "4               0  NONE   Average      7  ...  47.2639 -122.252          1520   \n",
       "...           ...   ...       ...    ...  ...      ...      ...           ...   \n",
       "20223           0  NONE   Average      9  ...  47.6493 -122.384          1550   \n",
       "20224           0  NONE   Average      9  ...  47.6482 -122.409          3210   \n",
       "20225           0  NONE   Average      9  ...  47.6580 -122.396          1980   \n",
       "20226           0  NONE   Average      8  ...  47.6515 -122.384          1350   \n",
       "20227           0  NONE   Average      8  ...  47.6521 -122.400          1760   \n",
       "\n",
       "       sqft_lot15  ZIP Code  Land Area (Sq. Meters)     city  county    pop  \\\n",
       "0            7800     98001                48144700   Auburn    King  33699   \n",
       "1            4557     98001                48144700   Auburn    King  33699   \n",
       "2           18386     98001                48144700   Auburn    King  33699   \n",
       "3            9937     98001                48144700   Auburn    King  33699   \n",
       "4            9518     98001                48144700   Auburn    King  33699   \n",
       "...           ...       ...                     ...      ...     ...    ...   \n",
       "20223        1579     98199                10815400  Seattle    King  22720   \n",
       "20224        4640     98199                10815400  Seattle    King  22720   \n",
       "20225        4000     98199                10815400  Seattle    King  22720   \n",
       "20226        1397     98199                10815400  Seattle    King  22720   \n",
       "20227        5664     98199                10815400  Seattle    King  22720   \n",
       "\n",
       "        density  \n",
       "0      0.000700  \n",
       "1      0.000700  \n",
       "2      0.000700  \n",
       "3      0.000700  \n",
       "4      0.000700  \n",
       "...         ...  \n",
       "20223  0.002101  \n",
       "20224  0.002101  \n",
       "20225  0.002101  \n",
       "20226  0.002101  \n",
       "20227  0.002101  \n",
       "\n",
       "[20228 rows x 23 columns]"
      ]
     },
     "execution_count": 127,
     "metadata": {},
     "output_type": "execute_result"
    }
   ],
   "source": [
    "merged_king_data"
   ]
  },
  {
   "cell_type": "code",
   "execution_count": 128,
   "metadata": {},
   "outputs": [],
   "source": [
    "merged_king_data.drop(columns=['zipcode','county'], inplace=True)"
   ]
  },
  {
   "cell_type": "code",
   "execution_count": 129,
   "metadata": {},
   "outputs": [
    {
     "name": "stdout",
     "output_type": "stream",
     "text": [
      "<class 'pandas.core.frame.DataFrame'>\n",
      "Int64Index: 20228 entries, 0 to 20227\n",
      "Data columns (total 21 columns):\n",
      " #   Column                  Non-Null Count  Dtype  \n",
      "---  ------                  --------------  -----  \n",
      " 0   price                   20228 non-null  float64\n",
      " 1   bedrooms                20228 non-null  int64  \n",
      " 2   bathrooms               20228 non-null  float64\n",
      " 3   sqft_living             20228 non-null  int64  \n",
      " 4   sqft_lot                20228 non-null  int64  \n",
      " 5   floors                  20228 non-null  float64\n",
      " 6   waterfront              20228 non-null  int64  \n",
      " 7   view                    20228 non-null  object \n",
      " 8   condition               20228 non-null  object \n",
      " 9   grade                   20228 non-null  int64  \n",
      " 10  sqft_above              20228 non-null  int64  \n",
      " 11  yr_built                20228 non-null  int64  \n",
      " 12  lat                     20228 non-null  float64\n",
      " 13  long                    20228 non-null  float64\n",
      " 14  sqft_living15           20228 non-null  int64  \n",
      " 15  sqft_lot15              20228 non-null  int64  \n",
      " 16  ZIP Code                20228 non-null  int64  \n",
      " 17  Land Area (Sq. Meters)  20228 non-null  int64  \n",
      " 18  city                    20228 non-null  object \n",
      " 19  pop                     20228 non-null  int64  \n",
      " 20  density                 20228 non-null  float64\n",
      "dtypes: float64(6), int64(12), object(3)\n",
      "memory usage: 3.4+ MB\n"
     ]
    }
   ],
   "source": [
    "merged_king_data.info()"
   ]
  },
  {
   "cell_type": "code",
   "execution_count": 130,
   "metadata": {},
   "outputs": [],
   "source": [
    "merged_king_data['grade']= merged_king_data['grade'].astype(object)"
   ]
  },
  {
   "cell_type": "code",
   "execution_count": null,
   "metadata": {},
   "outputs": [],
   "source": [
    "#merged_king_data['price'] = np.log(merged_king_data['price'])"
   ]
  },
  {
   "cell_type": "code",
   "execution_count": 51,
   "metadata": {},
   "outputs": [],
   "source": [
    "merged_king_data.drop(columns=['density','pop','Land Area (Sq. Meters)','ZIP Code','waterfront','lat','long'],inplace=True)"
   ]
  },
  {
   "cell_type": "code",
   "execution_count": 69,
   "metadata": {},
   "outputs": [
    {
     "data": {
      "text/plain": [
       "<AxesSubplot:xlabel='view', ylabel='price'>"
      ]
     },
     "execution_count": 69,
     "metadata": {},
     "output_type": "execute_result"
    },
    {
     "data": {
      "image/png": "[encoded data removed]",
      "text/plain": [
       "<Figure size 432x288 with 1 Axes>"
      ]
     },
     "metadata": {
      "needs_background": "light"
     },
     "output_type": "display_data"
    }
   ],
   "source": [
    "sns.boxplot(x=\"view\", y=\"price\", data=merged_king_data,order=['NONE','FAIR','AVERAGE','GOOD','EXCELLENT'])"
   ]
  },
  {
   "cell_type": "code",
   "execution_count": 73,
   "metadata": {},
   "outputs": [
    {
     "data": {
      "text/plain": [
       "<AxesSubplot:xlabel='city', ylabel='price'>"
      ]
     },
     "execution_count": 73,
     "metadata": {},
     "output_type": "execute_result"
    },
    {
     "data": {
      "image/png": "[encoded data removed]",
      "text/plain": [
       "<Figure size 432x288 with 1 Axes>"
      ]
     },
     "metadata": {
      "needs_background": "light"
     },
     "output_type": "display_data"
    }
   ],
   "source": [
    "sns.boxplot(x=\"city\", y=\"price\", data=merged_king_data)"
   ]
  },
  {
   "cell_type": "code",
   "execution_count": 72,
   "metadata": {},
   "outputs": [
    {
     "data": {
      "text/plain": [
       "<AxesSubplot:xlabel='condition', ylabel='price'>"
      ]
     },
     "execution_count": 72,
     "metadata": {},
     "output_type": "execute_result"
    },
    {
     "data": {
      "image/png": "[encoded data removed]",
      "text/plain": [
       "<Figure size 432x288 with 1 Axes>"
      ]
     },
     "metadata": {
      "needs_background": "light"
     },
     "output_type": "display_data"
    }
   ],
   "source": [
    "sns.boxplot(x=\"condition\", y=\"price\", data=merged_king_data, order=['Poor','Fair','Average','Good','Very Good'])"
   ]
  },
  {
   "cell_type": "code",
   "execution_count": 54,
   "metadata": {},
   "outputs": [],
   "source": []
  },
  {
   "cell_type": "code",
   "execution_count": 138,
   "metadata": {},
   "outputs": [
    {
     "data": {
      "image/png": "[encoded data removed]",
      "text/plain": [
       "<Figure size 432x288 with 1 Axes>"
      ]
     },
     "metadata": {
      "needs_background": "light"
     },
     "output_type": "display_data"
    }
   ],
   "source": [
    "ax = sns.barplot(x=\"grade\", y=\"price\", data=merged_king_data, estimator=np.median)"
   ]
  },
  {
   "cell_type": "code",
   "execution_count": 139,
   "metadata": {},
   "outputs": [
    {
     "data": {
      "image/png": "[encoded data removed]",
      "text/plain": [
       "<Figure size 432x288 with 1 Axes>"
      ]
     },
     "metadata": {
      "needs_background": "light"
     },
     "output_type": "display_data"
    }
   ],
   "source": [
    "ax = sns.barplot(x=\"view\", y=\"price\", data=merged_king_data, estimator=np.median)"
   ]
  },
  {
   "cell_type": "code",
   "execution_count": 140,
   "metadata": {},
   "outputs": [
    {
     "data": {
      "image/png": "[encoded data removed]",
      "text/plain": [
       "<Figure size 432x288 with 1 Axes>"
      ]
     },
     "metadata": {
      "needs_background": "light"
     },
     "output_type": "display_data"
    }
   ],
   "source": [
    "ax = sns.barplot(x=\"condition\", y=\"price\", data=merged_king_data, estimator=np.median)"
   ]
  },
  {
   "cell_type": "code",
   "execution_count": 143,
   "metadata": {},
   "outputs": [
    {
     "data": {
      "image/png": "[encoded data removed]",
      "text/plain": [
       "<Figure size 432x288 with 1 Axes>"
      ]
     },
     "metadata": {
      "needs_background": "light"
     },
     "output_type": "display_data"
    }
   ],
   "source": [
    "ax = sns.barplot(x='price', y='city', data=merged_king_data, estimator=np.median)"
   ]
  },
  {
   "cell_type": "code",
   "execution_count": 190,
   "metadata": {},
   "outputs": [
    {
     "data": {
      "image/png": "[encoded data removed]",
      "text/plain": [
       "<Figure size 432x288 with 1 Axes>"
      ]
     },
     "metadata": {
      "needs_background": "light"
     },
     "output_type": "display_data"
    }
   ],
   "source": [
    "fig = plt.figure()\n",
    "conditions = ['Poor','Fair','Average','Good','Very Good']\n",
    "\n",
    "plt.bar(conditions,sorted(means_condition))\n",
    "plt.title('Mean of house prices by condition')\n",
    "plt.xlabel('Condition')\n",
    "plt.ylabel('Price (100K)')\n",
    "plt.savefig('./Images/Condtions_bar.png');"
   ]
  },
  {
   "cell_type": "code",
   "execution_count": 191,
   "metadata": {},
   "outputs": [
    {
     "data": {
      "image/png": "[encoded data removed]",
      "text/plain": [
       "<Figure size 432x288 with 1 Axes>"
      ]
     },
     "metadata": {
      "needs_background": "light"
     },
     "output_type": "display_data"
    }
   ],
   "source": [
    "fig = plt.figure()\n",
    "views = list(merged_king_data['view'].value_counts().index)\n",
    "\n",
    "plt.bar(views,sorted(means_view))\n",
    "plt.title('Mean of house prices by view quality')\n",
    "plt.xlabel('View Quality')\n",
    "plt.ylabel('Price (MM)')\n",
    "plt.savefig('./Images/View_bar.png');"
   ]
  },
  {
   "cell_type": "code",
   "execution_count": 192,
   "metadata": {},
   "outputs": [
    {
     "data": {
      "image/png": "[encoded data removed]",
      "text/plain": [
       "<Figure size 432x288 with 1 Axes>"
      ]
     },
     "metadata": {
      "needs_background": "light"
     },
     "output_type": "display_data"
    }
   ],
   "source": [
    "fig = plt.figure()\n",
    "grades = list(merged_king_data['grade'].value_counts().index)\n",
    "\n",
    "plt.bar(sorted(grades),means_grade)\n",
    "\n",
    "plt.title('Mean of house prices by construction grade')\n",
    "plt.xlabel('Construction Grade')\n",
    "plt.ylabel('Price (MM)')\n",
    "plt.savefig('./Images/Grade_bar.png');"
   ]
  },
  {
   "cell_type": "code",
   "execution_count": 193,
   "metadata": {},
   "outputs": [
    {
     "data": {
      "image/png": "[encoded data removed]",
      "text/plain": [
       "<Figure size 432x288 with 1 Axes>"
      ]
     },
     "metadata": {
      "needs_background": "light"
     },
     "output_type": "display_data"
    }
   ],
   "source": [
    "fig = plt.figure()\n",
    "cities = list(merged_king_data['city'].value_counts().index)\n",
    "\n",
    "plt.barh(cities,sorted(means_city))\n",
    "plt.title('Mean of house prices by city')\n",
    "plt.xlabel('Price (MM)')\n",
    "plt.ylabel('Cities')\n",
    "plt.savefig('./Images/City_bar.png');"
   ]
  },
  {
   "cell_type": "code",
   "execution_count": null,
   "metadata": {},
   "outputs": [],
   "source": []
  },
  {
   "cell_type": "code",
   "execution_count": 187,
   "metadata": {},
   "outputs": [
    {
     "data": {
      "text/plain": [
       "city\n",
       "Auburn           0.264263\n",
       "Bellevue         0.898688\n",
       "Black Diamond    0.423666\n",
       "Bothell          0.489672\n",
       "Carnation        0.455617\n",
       "Duvall           0.424815\n",
       "Fall City        0.589110\n",
       "Federal Way      0.288938\n",
       "Issaquah         0.614397\n",
       "Kenmore          0.462749\n",
       "Kent             0.300401\n",
       "Kirkland         0.646543\n",
       "Maple Valley     0.367012\n",
       "Medina           2.161300\n",
       "Mercer Island    1.183231\n",
       "North Bend       0.440232\n",
       "Redmond          0.658554\n",
       "Renton           0.403326\n",
       "Sammamish        0.733146\n",
       "Seattle          0.534811\n",
       "Snoqualmie       0.529954\n",
       "Vashon           0.489382\n",
       "Name: price, dtype: float64"
      ]
     },
     "execution_count": 187,
     "metadata": {},
     "output_type": "execute_result"
    }
   ],
   "source": [
    "means_city = merged_king_data.groupby('city')['price'].mean()\n",
    "means_city = means_city/1000000\n",
    "means_city"
   ]
  },
  {
   "cell_type": "code",
   "execution_count": 181,
   "metadata": {},
   "outputs": [
    {
     "data": {
      "text/plain": [
       "view\n",
       "AVERAGE      0.810468\n",
       "EXCELLENT    1.461706\n",
       "FAIR         0.813373\n",
       "GOOD         1.010817\n",
       "NONE         0.501723\n",
       "Name: price, dtype: float64"
      ]
     },
     "execution_count": 181,
     "metadata": {},
     "output_type": "execute_result"
    }
   ],
   "source": [
    "means_view = merged_king_data.groupby('view')['price'].mean()\n",
    "means_view = means_view/1000000\n",
    "means_view "
   ]
  },
  {
   "cell_type": "code",
   "execution_count": 173,
   "metadata": {},
   "outputs": [
    {
     "data": {
      "text/plain": [
       "condition\n",
       "Average      5.485638\n",
       "Fair         3.300944\n",
       "Good         5.287889\n",
       "Poor         3.410672\n",
       "Very Good    6.241941\n",
       "Name: price, dtype: float64"
      ]
     },
     "execution_count": 173,
     "metadata": {},
     "output_type": "execute_result"
    }
   ],
   "source": [
    "means_condition = merged_king_data.groupby('condition')['price'].mean()\n",
    "means_condition = means_condition/100000\n",
    "means_condition"
   ]
  },
  {
   "cell_type": "code",
   "execution_count": 184,
   "metadata": {},
   "outputs": [
    {
     "data": {
      "text/plain": [
       "grade\n",
       "4     0.212002\n",
       "5     0.249371\n",
       "6     0.304522\n",
       "7     0.407875\n",
       "8     0.552422\n",
       "9     0.793836\n",
       "10    1.089803\n",
       "11    1.538786\n",
       "12    2.214217\n",
       "13    3.710769\n",
       "Name: price, dtype: float64"
      ]
     },
     "execution_count": 184,
     "metadata": {},
     "output_type": "execute_result"
    }
   ],
   "source": [
    "means_grade = merged_king_data.groupby('grade')['price'].mean()\n",
    "means_grade = means_grade/1000000\n",
    "means_grade"
   ]
  },
  {
   "cell_type": "code",
   "execution_count": null,
   "metadata": {},
   "outputs": [],
   "source": [
    "merged_king_data.info()"
   ]
  },
  {
   "cell_type": "code",
   "execution_count": null,
   "metadata": {},
   "outputs": [],
   "source": [
    "X = merged_king_data.drop(columns='price')\n",
    "y = merged_king_data['price']"
   ]
  },
  {
   "cell_type": "code",
   "execution_count": null,
   "metadata": {},
   "outputs": [],
   "source": [
    "X_train, X_test, y_train, y_test = train_test_split(\n",
    "    X, y, test_size=0.25, random_state=42)"
   ]
  },
  {
   "cell_type": "code",
   "execution_count": null,
   "metadata": {},
   "outputs": [],
   "source": [
    "cat_cols = [c for c in merged_king_data if merged_king_data[c].dtype == 'O']\n",
    "cat_cols"
   ]
  },
  {
   "cell_type": "code",
   "execution_count": null,
   "metadata": {},
   "outputs": [],
   "source": [
    "X_train.describe(include=['O'])"
   ]
  },
  {
   "cell_type": "code",
   "execution_count": null,
   "metadata": {},
   "outputs": [],
   "source": [
    "# Import our One Hot Encoder\n",
    "from sklearn.preprocessing import OneHotEncoder\n",
    "# Going to use ColumnTransformer to encode only cat cols\n",
    "from sklearn.compose import ColumnTransformer"
   ]
  },
  {
   "cell_type": "code",
   "execution_count": null,
   "metadata": {},
   "outputs": [],
   "source": [
    "encoder = OneHotEncoder(handle_unknown='error',\n",
    "                        drop='if_binary', \n",
    "                        categories='auto')\n",
    "\n",
    "ct = ColumnTransformer(transformers=[('ohe', encoder, cat_cols)],\n",
    "                       remainder='passthrough')\n",
    "\n",
    "ct.fit(X_train)\n",
    "X_train_enc = ct.transform(X_train)\n",
    "X_test_enc = ct.transform(X_test)"
   ]
  },
  {
   "cell_type": "code",
   "execution_count": null,
   "metadata": {},
   "outputs": [],
   "source": [
    "X_train_enc.todense()"
   ]
  },
  {
   "cell_type": "code",
   "execution_count": null,
   "metadata": {},
   "outputs": [],
   "source": [
    "X_train_enc = pd.DataFrame(X_train_enc.todense(), columns= ct.get_feature_names())\n",
    "X_train_enc\n"
   ]
  },
  {
   "cell_type": "code",
   "execution_count": null,
   "metadata": {},
   "outputs": [],
   "source": [
    "X_test_enc = pd.DataFrame(X_test_enc.todense(), columns= ct.get_feature_names())\n",
    "X_test_enc"
   ]
  },
  {
   "cell_type": "code",
   "execution_count": null,
   "metadata": {},
   "outputs": [],
   "source": []
  },
  {
   "cell_type": "code",
   "execution_count": null,
   "metadata": {},
   "outputs": [],
   "source": []
  }
 ],
 "metadata": {
  "kernelspec": {
   "display_name": "Python (learn-env)",
   "language": "python",
   "name": "learn-env"
  },
  "language_info": {
   "codemirror_mode": {
    "name": "ipython",
    "version": 3
   },
   "file_extension": ".py",
   "mimetype": "text/x-python",
   "name": "python",
   "nbconvert_exporter": "python",
   "pygments_lexer": "ipython3",
   "version": "3.8.5"
  }
 },
 "nbformat": 4,
 "nbformat_minor": 4
}
