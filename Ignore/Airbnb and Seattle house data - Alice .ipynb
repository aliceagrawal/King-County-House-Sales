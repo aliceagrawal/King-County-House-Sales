{
 "cells": [
  {
   "cell_type": "code",
   "execution_count": 1,
   "metadata": {},
   "outputs": [],
   "source": [
    "import pandas as pd\n",
    "import seaborn as sns\n",
    "import matplotlib.pyplot as plt\n",
    "from matplotlib import ticker\n",
    "import numpy as np\n",
    "import statsmodels.api as sm\n",
    "import folium"
   ]
  },
  {
   "cell_type": "code",
   "execution_count": 2,
   "metadata": {},
   "outputs": [],
   "source": [
    "df = pd.read_csv('./data/kc_house_data.csv', parse_dates = ['date'])\n",
    "\n",
    "house = df.copy()"
   ]
  },
  {
   "cell_type": "code",
   "execution_count": 3,
   "metadata": {
    "scrolled": true
   },
   "outputs": [
    {
     "data": {
      "text/plain": [
       "Index(['id', 'date', 'price', 'bedrooms', 'bathrooms', 'sqft_living',\n",
       "       'sqft_lot', 'floors', 'waterfront', 'view', 'condition', 'grade',\n",
       "       'sqft_above', 'sqft_basement', 'yr_built', 'yr_renovated', 'zipcode',\n",
       "       'lat', 'long', 'sqft_living15', 'sqft_lot15'],\n",
       "      dtype='object')"
      ]
     },
     "execution_count": 3,
     "metadata": {},
     "output_type": "execute_result"
    }
   ],
   "source": [
    "house.columns"
   ]
  },
  {
   "cell_type": "code",
   "execution_count": 4,
   "metadata": {},
   "outputs": [],
   "source": [
    "house = house.drop(['id', 'date', 'yr_built', 'yr_renovated', 'sqft_living15', 'sqft_lot15'], axis = 1)"
   ]
  },
  {
   "cell_type": "code",
   "execution_count": 5,
   "metadata": {},
   "outputs": [
    {
     "data": {
      "text/html": [
       "<div>\n",
       "<style scoped>\n",
       "    .dataframe tbody tr th:only-of-type {\n",
       "        vertical-align: middle;\n",
       "    }\n",
       "\n",
       "    .dataframe tbody tr th {\n",
       "        vertical-align: top;\n",
       "    }\n",
       "\n",
       "    .dataframe thead th {\n",
       "        text-align: right;\n",
       "    }\n",
       "</style>\n",
       "<table border=\"1\" class=\"dataframe\">\n",
       "  <thead>\n",
       "    <tr style=\"text-align: right;\">\n",
       "      <th></th>\n",
       "      <th>price</th>\n",
       "      <th>bedrooms</th>\n",
       "      <th>bathrooms</th>\n",
       "      <th>sqft_living</th>\n",
       "      <th>sqft_lot</th>\n",
       "      <th>floors</th>\n",
       "      <th>waterfront</th>\n",
       "      <th>view</th>\n",
       "      <th>condition</th>\n",
       "      <th>grade</th>\n",
       "      <th>sqft_above</th>\n",
       "      <th>sqft_basement</th>\n",
       "      <th>zipcode</th>\n",
       "      <th>lat</th>\n",
       "      <th>long</th>\n",
       "    </tr>\n",
       "  </thead>\n",
       "  <tbody>\n",
       "    <tr>\n",
       "      <th>0</th>\n",
       "      <td>221900.0</td>\n",
       "      <td>3</td>\n",
       "      <td>1.00</td>\n",
       "      <td>1180</td>\n",
       "      <td>5650</td>\n",
       "      <td>1.0</td>\n",
       "      <td>NaN</td>\n",
       "      <td>NONE</td>\n",
       "      <td>Average</td>\n",
       "      <td>7 Average</td>\n",
       "      <td>1180</td>\n",
       "      <td>0.0</td>\n",
       "      <td>98178</td>\n",
       "      <td>47.5112</td>\n",
       "      <td>-122.257</td>\n",
       "    </tr>\n",
       "    <tr>\n",
       "      <th>1</th>\n",
       "      <td>538000.0</td>\n",
       "      <td>3</td>\n",
       "      <td>2.25</td>\n",
       "      <td>2570</td>\n",
       "      <td>7242</td>\n",
       "      <td>2.0</td>\n",
       "      <td>NO</td>\n",
       "      <td>NONE</td>\n",
       "      <td>Average</td>\n",
       "      <td>7 Average</td>\n",
       "      <td>2170</td>\n",
       "      <td>400.0</td>\n",
       "      <td>98125</td>\n",
       "      <td>47.7210</td>\n",
       "      <td>-122.319</td>\n",
       "    </tr>\n",
       "    <tr>\n",
       "      <th>2</th>\n",
       "      <td>180000.0</td>\n",
       "      <td>2</td>\n",
       "      <td>1.00</td>\n",
       "      <td>770</td>\n",
       "      <td>10000</td>\n",
       "      <td>1.0</td>\n",
       "      <td>NO</td>\n",
       "      <td>NONE</td>\n",
       "      <td>Average</td>\n",
       "      <td>6 Low Average</td>\n",
       "      <td>770</td>\n",
       "      <td>0.0</td>\n",
       "      <td>98028</td>\n",
       "      <td>47.7379</td>\n",
       "      <td>-122.233</td>\n",
       "    </tr>\n",
       "    <tr>\n",
       "      <th>3</th>\n",
       "      <td>604000.0</td>\n",
       "      <td>4</td>\n",
       "      <td>3.00</td>\n",
       "      <td>1960</td>\n",
       "      <td>5000</td>\n",
       "      <td>1.0</td>\n",
       "      <td>NO</td>\n",
       "      <td>NONE</td>\n",
       "      <td>Very Good</td>\n",
       "      <td>7 Average</td>\n",
       "      <td>1050</td>\n",
       "      <td>910.0</td>\n",
       "      <td>98136</td>\n",
       "      <td>47.5208</td>\n",
       "      <td>-122.393</td>\n",
       "    </tr>\n",
       "    <tr>\n",
       "      <th>4</th>\n",
       "      <td>510000.0</td>\n",
       "      <td>3</td>\n",
       "      <td>2.00</td>\n",
       "      <td>1680</td>\n",
       "      <td>8080</td>\n",
       "      <td>1.0</td>\n",
       "      <td>NO</td>\n",
       "      <td>NONE</td>\n",
       "      <td>Average</td>\n",
       "      <td>8 Good</td>\n",
       "      <td>1680</td>\n",
       "      <td>0.0</td>\n",
       "      <td>98074</td>\n",
       "      <td>47.6168</td>\n",
       "      <td>-122.045</td>\n",
       "    </tr>\n",
       "  </tbody>\n",
       "</table>\n",
       "</div>"
      ],
      "text/plain": [
       "      price  bedrooms  bathrooms  sqft_living  sqft_lot  floors waterfront  \\\n",
       "0  221900.0         3       1.00         1180      5650     1.0        NaN   \n",
       "1  538000.0         3       2.25         2570      7242     2.0         NO   \n",
       "2  180000.0         2       1.00          770     10000     1.0         NO   \n",
       "3  604000.0         4       3.00         1960      5000     1.0         NO   \n",
       "4  510000.0         3       2.00         1680      8080     1.0         NO   \n",
       "\n",
       "   view  condition          grade  sqft_above sqft_basement  zipcode      lat  \\\n",
       "0  NONE    Average      7 Average        1180           0.0    98178  47.5112   \n",
       "1  NONE    Average      7 Average        2170         400.0    98125  47.7210   \n",
       "2  NONE    Average  6 Low Average         770           0.0    98028  47.7379   \n",
       "3  NONE  Very Good      7 Average        1050         910.0    98136  47.5208   \n",
       "4  NONE    Average         8 Good        1680           0.0    98074  47.6168   \n",
       "\n",
       "      long  \n",
       "0 -122.257  \n",
       "1 -122.319  \n",
       "2 -122.233  \n",
       "3 -122.393  \n",
       "4 -122.045  "
      ]
     },
     "execution_count": 5,
     "metadata": {},
     "output_type": "execute_result"
    }
   ],
   "source": [
    "house.head()"
   ]
  },
  {
   "cell_type": "code",
   "execution_count": 6,
   "metadata": {},
   "outputs": [],
   "source": [
    "abnb_df = pd.read_csv('data/listings (2).csv')"
   ]
  },
  {
   "cell_type": "code",
   "execution_count": 7,
   "metadata": {},
   "outputs": [
    {
     "name": "stdout",
     "output_type": "stream",
     "text": [
      "<class 'pandas.core.frame.DataFrame'>\n",
      "RangeIndex: 4686 entries, 0 to 4685\n",
      "Data columns (total 18 columns):\n",
      " #   Column                          Non-Null Count  Dtype  \n",
      "---  ------                          --------------  -----  \n",
      " 0   id                              4686 non-null   int64  \n",
      " 1   name                            4686 non-null   object \n",
      " 2   host_id                         4686 non-null   int64  \n",
      " 3   host_name                       4686 non-null   object \n",
      " 4   neighbourhood_group             4686 non-null   object \n",
      " 5   neighbourhood                   4686 non-null   object \n",
      " 6   latitude                        4686 non-null   float64\n",
      " 7   longitude                       4686 non-null   float64\n",
      " 8   room_type                       4686 non-null   object \n",
      " 9   price                           4686 non-null   int64  \n",
      " 10  minimum_nights                  4686 non-null   int64  \n",
      " 11  number_of_reviews               4686 non-null   int64  \n",
      " 12  last_review                     3964 non-null   object \n",
      " 13  reviews_per_month               3964 non-null   float64\n",
      " 14  calculated_host_listings_count  4686 non-null   int64  \n",
      " 15  availability_365                4686 non-null   int64  \n",
      " 16  number_of_reviews_ltm           4686 non-null   int64  \n",
      " 17  license                         3578 non-null   object \n",
      "dtypes: float64(3), int64(8), object(7)\n",
      "memory usage: 659.1+ KB\n"
     ]
    }
   ],
   "source": [
    "abnb_df.info()"
   ]
  },
  {
   "cell_type": "code",
   "execution_count": 8,
   "metadata": {},
   "outputs": [
    {
     "data": {
      "text/html": [
       "<div>\n",
       "<style scoped>\n",
       "    .dataframe tbody tr th:only-of-type {\n",
       "        vertical-align: middle;\n",
       "    }\n",
       "\n",
       "    .dataframe tbody tr th {\n",
       "        vertical-align: top;\n",
       "    }\n",
       "\n",
       "    .dataframe thead th {\n",
       "        text-align: right;\n",
       "    }\n",
       "</style>\n",
       "<table border=\"1\" class=\"dataframe\">\n",
       "  <thead>\n",
       "    <tr style=\"text-align: right;\">\n",
       "      <th></th>\n",
       "      <th>neighbourhood_group</th>\n",
       "      <th>neighbourhood</th>\n",
       "      <th>latitude</th>\n",
       "      <th>longitude</th>\n",
       "      <th>room_type</th>\n",
       "      <th>price</th>\n",
       "      <th>minimum_nights</th>\n",
       "      <th>number_of_reviews</th>\n",
       "      <th>reviews_per_month</th>\n",
       "    </tr>\n",
       "  </thead>\n",
       "  <tbody>\n",
       "    <tr>\n",
       "      <th>0</th>\n",
       "      <td>Central Area</td>\n",
       "      <td>Madrona</td>\n",
       "      <td>47.61094</td>\n",
       "      <td>-122.29286</td>\n",
       "      <td>Entire home/apt</td>\n",
       "      <td>333</td>\n",
       "      <td>7</td>\n",
       "      <td>36</td>\n",
       "      <td>0.22</td>\n",
       "    </tr>\n",
       "    <tr>\n",
       "      <th>1</th>\n",
       "      <td>Other neighborhoods</td>\n",
       "      <td>Wallingford</td>\n",
       "      <td>47.65444</td>\n",
       "      <td>-122.33629</td>\n",
       "      <td>Entire home/apt</td>\n",
       "      <td>99</td>\n",
       "      <td>3</td>\n",
       "      <td>157</td>\n",
       "      <td>1.04</td>\n",
       "    </tr>\n",
       "    <tr>\n",
       "      <th>2</th>\n",
       "      <td>Other neighborhoods</td>\n",
       "      <td>Georgetown</td>\n",
       "      <td>47.55017</td>\n",
       "      <td>-122.31937</td>\n",
       "      <td>Private room</td>\n",
       "      <td>62</td>\n",
       "      <td>2</td>\n",
       "      <td>154</td>\n",
       "      <td>1.11</td>\n",
       "    </tr>\n",
       "    <tr>\n",
       "      <th>3</th>\n",
       "      <td>West Seattle</td>\n",
       "      <td>Fairmount Park</td>\n",
       "      <td>47.55495</td>\n",
       "      <td>-122.38663</td>\n",
       "      <td>Entire home/apt</td>\n",
       "      <td>185</td>\n",
       "      <td>2</td>\n",
       "      <td>54</td>\n",
       "      <td>0.45</td>\n",
       "    </tr>\n",
       "    <tr>\n",
       "      <th>4</th>\n",
       "      <td>West Seattle</td>\n",
       "      <td>Fairmount Park</td>\n",
       "      <td>47.55627</td>\n",
       "      <td>-122.38607</td>\n",
       "      <td>Entire home/apt</td>\n",
       "      <td>145</td>\n",
       "      <td>5</td>\n",
       "      <td>59</td>\n",
       "      <td>0.49</td>\n",
       "    </tr>\n",
       "  </tbody>\n",
       "</table>\n",
       "</div>"
      ],
      "text/plain": [
       "   neighbourhood_group   neighbourhood  latitude  longitude        room_type  \\\n",
       "0         Central Area         Madrona  47.61094 -122.29286  Entire home/apt   \n",
       "1  Other neighborhoods     Wallingford  47.65444 -122.33629  Entire home/apt   \n",
       "2  Other neighborhoods      Georgetown  47.55017 -122.31937     Private room   \n",
       "3         West Seattle  Fairmount Park  47.55495 -122.38663  Entire home/apt   \n",
       "4         West Seattle  Fairmount Park  47.55627 -122.38607  Entire home/apt   \n",
       "\n",
       "   price  minimum_nights  number_of_reviews  reviews_per_month  \n",
       "0    333               7                 36               0.22  \n",
       "1     99               3                157               1.04  \n",
       "2     62               2                154               1.11  \n",
       "3    185               2                 54               0.45  \n",
       "4    145               5                 59               0.49  "
      ]
     },
     "execution_count": 8,
     "metadata": {},
     "output_type": "execute_result"
    }
   ],
   "source": [
    "abnb_cleaned = abnb_df.drop(['id', 'name', 'host_id', 'host_name', 'last_review', 'calculated_host_listings_count',\n",
    "       'availability_365', 'number_of_reviews_ltm', 'license'], axis=1)\n",
    "\n",
    "abnb_cleaned.head()\n"
   ]
  },
  {
   "cell_type": "code",
   "execution_count": 9,
   "metadata": {},
   "outputs": [
    {
     "name": "stdout",
     "output_type": "stream",
     "text": [
      "<class 'pandas.core.frame.DataFrame'>\n",
      "Int64Index: 7034 entries, 0 to 21596\n",
      "Data columns (total 15 columns):\n",
      " #   Column         Non-Null Count  Dtype  \n",
      "---  ------         --------------  -----  \n",
      " 0   price          7034 non-null   float64\n",
      " 1   bedrooms       7034 non-null   int64  \n",
      " 2   bathrooms      7034 non-null   float64\n",
      " 3   sqft_living    7034 non-null   int64  \n",
      " 4   sqft_lot       7034 non-null   int64  \n",
      " 5   floors         7034 non-null   float64\n",
      " 6   waterfront     6277 non-null   object \n",
      " 7   view           7011 non-null   object \n",
      " 8   condition      7034 non-null   object \n",
      " 9   grade          7034 non-null   object \n",
      " 10  sqft_above     7034 non-null   int64  \n",
      " 11  sqft_basement  7034 non-null   object \n",
      " 12  zipcode        7034 non-null   int64  \n",
      " 13  lat            7034 non-null   float64\n",
      " 14  long           7034 non-null   float64\n",
      "dtypes: float64(5), int64(5), object(5)\n",
      "memory usage: 879.2+ KB\n"
     ]
    }
   ],
   "source": [
    "\n",
    "seattle_lat_max = abnb_cleaned['latitude'].max()\n",
    "seattle_lat_min = abnb_cleaned['latitude'].min()\n",
    "seattle_lon_max = abnb_cleaned['longitude'].max()\n",
    "seattle_lon_min = abnb_cleaned['longitude'].min()\n",
    "\n",
    "house_seattle = house.loc[((house['lat'] >= seattle_lat_min) & (house['lat'] <= seattle_lat_max)) & ((house['long'] >= seattle_lon_min) & (house['long'] <= seattle_lon_max))]\n",
    "house_seattle.info()"
   ]
  },
  {
   "cell_type": "code",
   "execution_count": 13,
   "metadata": {},
   "outputs": [],
   "source": [
    "# Keeping only necessary columns from the house_seattle dataframe\n",
    "# house_seattle_locations = house_seattle[['lat', 'long', 'price']]"
   ]
  },
  {
   "cell_type": "code",
   "execution_count": 16,
   "metadata": {},
   "outputs": [
    {
     "name": "stderr",
     "output_type": "stream",
     "text": [
      "<ipython-input-16-624f20d3dcfc>:1: SettingWithCopyWarning: \n",
      "A value is trying to be set on a copy of a slice from a DataFrame.\n",
      "Try using .loc[row_indexer,col_indexer] = value instead\n",
      "\n",
      "See the caveats in the documentation: https://pandas.pydata.org/pandas-docs/stable/user_guide/indexing.html#returning-a-view-versus-a-copy\n",
      "  house_seattle['lat'] = house_seattle['lat'].astype(str)\n",
      "<ipython-input-16-624f20d3dcfc>:2: SettingWithCopyWarning: \n",
      "A value is trying to be set on a copy of a slice from a DataFrame.\n",
      "Try using .loc[row_indexer,col_indexer] = value instead\n",
      "\n",
      "See the caveats in the documentation: https://pandas.pydata.org/pandas-docs/stable/user_guide/indexing.html#returning-a-view-versus-a-copy\n",
      "  house_seattle['long'] = house_seattle['long'].astype(str)\n"
     ]
    }
   ],
   "source": [
    "house_seattle['lat'] = house_seattle['lat'].astype(str)\n",
    "house_seattle['long'] = house_seattle['long'].astype(str)\n"
   ]
  },
  {
   "cell_type": "code",
   "execution_count": 17,
   "metadata": {},
   "outputs": [
    {
     "name": "stderr",
     "output_type": "stream",
     "text": [
      "<ipython-input-17-8282daf54a7b>:1: SettingWithCopyWarning: \n",
      "A value is trying to be set on a copy of a slice from a DataFrame.\n",
      "Try using .loc[row_indexer,col_indexer] = value instead\n",
      "\n",
      "See the caveats in the documentation: https://pandas.pydata.org/pandas-docs/stable/user_guide/indexing.html#returning-a-view-versus-a-copy\n",
      "  house_seattle['lat-lon'] = house_seattle[['lat', 'long']].agg('-'.join, axis=1)\n"
     ]
    }
   ],
   "source": [
    "house_seattle['lat-lon'] = house_seattle[['lat', 'long']].agg('-'.join, axis=1)"
   ]
  },
  {
   "cell_type": "code",
   "execution_count": 19,
   "metadata": {},
   "outputs": [],
   "source": [
    "abnb_cleaned['latitude'] = abnb_cleaned['latitude'].astype(str)\n",
    "abnb_cleaned['longitude'] = abnb_cleaned['longitude'].astype(str)\n"
   ]
  },
  {
   "cell_type": "code",
   "execution_count": 20,
   "metadata": {},
   "outputs": [],
   "source": [
    "abnb_cleaned['lat-lon'] = abnb_cleaned[['latitude', 'longitude']].agg('-'.join, axis=1)"
   ]
  },
  {
   "cell_type": "code",
   "execution_count": 27,
   "metadata": {},
   "outputs": [
    {
     "name": "stdout",
     "output_type": "stream",
     "text": [
      "<class 'pandas.core.frame.DataFrame'>\n",
      "RangeIndex: 4686 entries, 0 to 4685\n",
      "Data columns (total 10 columns):\n",
      " #   Column               Non-Null Count  Dtype  \n",
      "---  ------               --------------  -----  \n",
      " 0   neighbourhood_group  4686 non-null   object \n",
      " 1   neighbourhood        4686 non-null   object \n",
      " 2   latitude             4686 non-null   object \n",
      " 3   longitude            4686 non-null   object \n",
      " 4   room_type            4686 non-null   object \n",
      " 5   price                4686 non-null   int64  \n",
      " 6   minimum_nights       4686 non-null   int64  \n",
      " 7   number_of_reviews    4686 non-null   int64  \n",
      " 8   reviews_per_month    3964 non-null   float64\n",
      " 9   lat-lon              4686 non-null   object \n",
      "dtypes: float64(1), int64(3), object(6)\n",
      "memory usage: 366.2+ KB\n"
     ]
    }
   ],
   "source": [
    "abnb_cleaned.info()"
   ]
  },
  {
   "cell_type": "code",
   "execution_count": 26,
   "metadata": {},
   "outputs": [
    {
     "name": "stdout",
     "output_type": "stream",
     "text": [
      "<class 'pandas.core.frame.DataFrame'>\n",
      "Int64Index: 7034 entries, 0 to 7033\n",
      "Data columns (total 25 columns):\n",
      " #   Column               Non-Null Count  Dtype  \n",
      "---  ------               --------------  -----  \n",
      " 0   price_x              7034 non-null   float64\n",
      " 1   bedrooms             7034 non-null   int64  \n",
      " 2   bathrooms            7034 non-null   float64\n",
      " 3   sqft_living          7034 non-null   int64  \n",
      " 4   sqft_lot             7034 non-null   int64  \n",
      " 5   floors               7034 non-null   float64\n",
      " 6   waterfront           6277 non-null   object \n",
      " 7   view                 7011 non-null   object \n",
      " 8   condition            7034 non-null   object \n",
      " 9   grade                7034 non-null   object \n",
      " 10  sqft_above           7034 non-null   int64  \n",
      " 11  sqft_basement        7034 non-null   object \n",
      " 12  zipcode              7034 non-null   int64  \n",
      " 13  lat                  7034 non-null   object \n",
      " 14  long                 7034 non-null   object \n",
      " 15  lat-lon              7034 non-null   object \n",
      " 16  neighbourhood_group  0 non-null      object \n",
      " 17  neighbourhood        0 non-null      object \n",
      " 18  latitude             0 non-null      object \n",
      " 19  longitude            0 non-null      object \n",
      " 20  room_type            0 non-null      object \n",
      " 21  price_y              0 non-null      float64\n",
      " 22  minimum_nights       0 non-null      float64\n",
      " 23  number_of_reviews    0 non-null      float64\n",
      " 24  reviews_per_month    0 non-null      float64\n",
      "dtypes: float64(7), int64(5), object(13)\n",
      "memory usage: 1.4+ MB\n"
     ]
    }
   ],
   "source": [
    "# merge house_seattle_locations and abnb_cleaned\n",
    "\n",
    "total_locations = house_seattle.merge(abnb_cleaned, how='left', on='lat-lon')\n",
    "total_locations.info()"
   ]
  },
  {
   "cell_type": "code",
   "execution_count": 21,
   "metadata": {},
   "outputs": [],
   "source": [
    "# Creating the map and adding seattle house points to it\n",
    "map_seattle = folium.Map(location=[house_seattle_locations.lat.mean(), house_seattle_locations.long.mean()], zoom_start=10, control_scale=True)\n",
    "\n",
    "for index, location_info in house_seattle_locations.iterrows():\n",
    "    folium.Marker([location_info['lat'], location_info['long']], popup=location_info[\"price\"]).add_to(map_seattle)"
   ]
  },
  {
   "cell_type": "code",
   "execution_count": 20,
   "metadata": {},
   "outputs": [],
   "source": [
    "map_seattle.save(\"seattle_houses.html\")"
   ]
  },
  {
   "cell_type": "code",
   "execution_count": 22,
   "metadata": {},
   "outputs": [],
   "source": [
    "# Creating the map and adding seattle airbnb points to it\n",
    "map_seattle2 = folium.Map(location=[abnb_cleaned.latitude.mean(), abnb_cleaned.longitude.mean()], zoom_start=10, control_scale=True)\n",
    "\n",
    "for index, location_info in abnb_cleaned.iterrows():\n",
    "    folium.Marker([location_info['latitude'], location_info['longitude']], popup=location_info[\"price\"]).add_to(map_seattle2)"
   ]
  },
  {
   "cell_type": "code",
   "execution_count": 23,
   "metadata": {},
   "outputs": [],
   "source": [
    "map_seattle2.save(\"seattle_abnb.html\")"
   ]
  },
  {
   "cell_type": "code",
   "execution_count": null,
   "metadata": {},
   "outputs": [],
   "source": []
  }
 ],
 "metadata": {
  "kernelspec": {
   "display_name": "Python (learn-env)",
   "language": "python",
   "name": "learn-env"
  },
  "language_info": {
   "codemirror_mode": {
    "name": "ipython",
    "version": 3
   },
   "file_extension": ".py",
   "mimetype": "text/x-python",
   "name": "python",
   "nbconvert_exporter": "python",
   "pygments_lexer": "ipython3",
   "version": "3.8.5"
  }
 },
 "nbformat": 4,
 "nbformat_minor": 4
}
