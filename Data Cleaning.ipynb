{
 "cells": [
  {
   "cell_type": "markdown",
   "metadata": {},
   "source": [
    "# Data Cleaning and Feature Engineering"
   ]
  },
  {
   "attachments": {
    "data-cleaning-image.png": {
     "image/png": "[encoded data removed]"
    }
   },
   "cell_type": "markdown",
   "metadata": {},
   "source": [
    "![data-cleaning-image.png](attachment:data-cleaning-image.png)"
   ]
  },
  {
   "cell_type": "markdown",
   "metadata": {},
   "source": [
    "## Imports "
   ]
  },
  {
   "cell_type": "code",
   "execution_count": 87,
   "metadata": {},
   "outputs": [],
   "source": [
    "import pandas as pd\n",
    "import numpy as np\n"
   ]
  },
  {
   "cell_type": "markdown",
   "metadata": {},
   "source": [
    "Import the house data"
   ]
  },
  {
   "cell_type": "code",
   "execution_count": 88,
   "metadata": {},
   "outputs": [],
   "source": [
    "df = pd.read_csv('./data/kc_house_data.csv', parse_dates = ['date'])"
   ]
  },
  {
   "cell_type": "code",
   "execution_count": 89,
   "metadata": {},
   "outputs": [],
   "source": [
    "house = df.copy()"
   ]
  },
  {
   "cell_type": "markdown",
   "metadata": {},
   "source": [
    "## Data Understanding"
   ]
  },
  {
   "cell_type": "code",
   "execution_count": 90,
   "metadata": {},
   "outputs": [
    {
     "data": {
      "text/plain": [
       "(21597, 21)"
      ]
     },
     "execution_count": 90,
     "metadata": {},
     "output_type": "execute_result"
    }
   ],
   "source": [
    "house.shape"
   ]
  },
  {
   "cell_type": "code",
   "execution_count": 91,
   "metadata": {},
   "outputs": [
    {
     "data": {
      "text/plain": [
       "(Timestamp('2014-05-02 00:00:00'), Timestamp('2015-05-27 00:00:00'))"
      ]
     },
     "execution_count": 91,
     "metadata": {},
     "output_type": "execute_result"
    }
   ],
   "source": [
    "house['date'].min(), house['date'].max()"
   ]
  },
  {
   "cell_type": "code",
   "execution_count": 92,
   "metadata": {
    "scrolled": true
   },
   "outputs": [
    {
     "data": {
      "text/plain": [
       "Index(['id', 'date', 'price', 'bedrooms', 'bathrooms', 'sqft_living',\n",
       "       'sqft_lot', 'floors', 'waterfront', 'view', 'condition', 'grade',\n",
       "       'sqft_above', 'sqft_basement', 'yr_built', 'yr_renovated', 'zipcode',\n",
       "       'lat', 'long', 'sqft_living15', 'sqft_lot15'],\n",
       "      dtype='object')"
      ]
     },
     "execution_count": 92,
     "metadata": {},
     "output_type": "execute_result"
    }
   ],
   "source": [
    "house.columns"
   ]
  },
  {
   "cell_type": "code",
   "execution_count": 93,
   "metadata": {},
   "outputs": [
    {
     "name": "stdout",
     "output_type": "stream",
     "text": [
      "<class 'pandas.core.frame.DataFrame'>\n",
      "RangeIndex: 21597 entries, 0 to 21596\n",
      "Data columns (total 21 columns):\n",
      " #   Column         Non-Null Count  Dtype         \n",
      "---  ------         --------------  -----         \n",
      " 0   id             21597 non-null  int64         \n",
      " 1   date           21597 non-null  datetime64[ns]\n",
      " 2   price          21597 non-null  float64       \n",
      " 3   bedrooms       21597 non-null  int64         \n",
      " 4   bathrooms      21597 non-null  float64       \n",
      " 5   sqft_living    21597 non-null  int64         \n",
      " 6   sqft_lot       21597 non-null  int64         \n",
      " 7   floors         21597 non-null  float64       \n",
      " 8   waterfront     19221 non-null  object        \n",
      " 9   view           21534 non-null  object        \n",
      " 10  condition      21597 non-null  object        \n",
      " 11  grade          21597 non-null  object        \n",
      " 12  sqft_above     21597 non-null  int64         \n",
      " 13  sqft_basement  21597 non-null  object        \n",
      " 14  yr_built       21597 non-null  int64         \n",
      " 15  yr_renovated   17755 non-null  float64       \n",
      " 16  zipcode        21597 non-null  int64         \n",
      " 17  lat            21597 non-null  float64       \n",
      " 18  long           21597 non-null  float64       \n",
      " 19  sqft_living15  21597 non-null  int64         \n",
      " 20  sqft_lot15     21597 non-null  int64         \n",
      "dtypes: datetime64[ns](1), float64(6), int64(9), object(5)\n",
      "memory usage: 3.5+ MB\n"
     ]
    }
   ],
   "source": [
    "house.info()"
   ]
  },
  {
   "cell_type": "markdown",
   "metadata": {},
   "source": [
    "## Data Cleaning"
   ]
  },
  {
   "cell_type": "markdown",
   "metadata": {},
   "source": [
    "We drop the ID and date column as they are not of much use\n",
    "\n",
    "- The house prices are only for a period of one year\n",
    "- house ID are unique keys only"
   ]
  },
  {
   "cell_type": "code",
   "execution_count": 94,
   "metadata": {},
   "outputs": [],
   "source": [
    "# Dropping the id and date column\n",
    "house = house.drop(['id', 'date'], axis=1)"
   ]
  },
  {
   "cell_type": "code",
   "execution_count": 95,
   "metadata": {},
   "outputs": [
    {
     "data": {
      "text/plain": [
       "7 Average        8974\n",
       "8 Good           6065\n",
       "9 Better         2615\n",
       "6 Low Average    2038\n",
       "10 Very Good     1134\n",
       "11 Excellent      399\n",
       "5 Fair            242\n",
       "12 Luxury          89\n",
       "4 Low              27\n",
       "13 Mansion         13\n",
       "3 Poor              1\n",
       "Name: grade, dtype: int64"
      ]
     },
     "execution_count": 95,
     "metadata": {},
     "output_type": "execute_result"
    }
   ],
   "source": [
    "house['grade'].value_counts()"
   ]
  },
  {
   "cell_type": "code",
   "execution_count": 96,
   "metadata": {},
   "outputs": [],
   "source": [
    "# splitting grade and keeping only the numerical value of the grade\n",
    "house['grade'] = house['grade'].map(lambda x: x.split()[0])"
   ]
  },
  {
   "cell_type": "code",
   "execution_count": 97,
   "metadata": {
    "scrolled": true
   },
   "outputs": [
    {
     "data": {
      "text/plain": [
       "7     8974\n",
       "8     6065\n",
       "9     2615\n",
       "6     2038\n",
       "10    1134\n",
       "11     399\n",
       "5      242\n",
       "12      89\n",
       "4       27\n",
       "13      13\n",
       "3        1\n",
       "Name: grade, dtype: int64"
      ]
     },
     "execution_count": 97,
     "metadata": {},
     "output_type": "execute_result"
    }
   ],
   "source": [
    "house['grade'].value_counts()"
   ]
  },
  {
   "cell_type": "code",
   "execution_count": 98,
   "metadata": {},
   "outputs": [
    {
     "data": {
      "text/plain": [
       "NO     19075\n",
       "YES      146\n",
       "Name: waterfront, dtype: int64"
      ]
     },
     "execution_count": 98,
     "metadata": {},
     "output_type": "execute_result"
    }
   ],
   "source": [
    "house['waterfront'].value_counts()"
   ]
  },
  {
   "cell_type": "code",
   "execution_count": 99,
   "metadata": {},
   "outputs": [
    {
     "data": {
      "text/plain": [
       "2376"
      ]
     },
     "execution_count": 99,
     "metadata": {},
     "output_type": "execute_result"
    }
   ],
   "source": [
    "house['waterfront'].isnull().sum()"
   ]
  },
  {
   "cell_type": "markdown",
   "metadata": {},
   "source": [
    "Null values for waterfront feature accounts for ~10% of our data and ~99% of the remaining houses don't have waterfront view. We believe waterfront houses usually have higher prices and waterfront would be a key feature in the model. "
   ]
  },
  {
   "cell_type": "markdown",
   "metadata": {},
   "source": [
    "After further investigation, we find that the waterfront predictor is not classified well. Some houses classified as waterfront houses are located in front of a puddle which is should not affect the house prices grately. Also most houses which are waterfront are not classfied well. Please refer to [Blog explaining the waterfront predictor in this data](https://towardsdatascience.com/a-beginners-guide-to-feature-engineering-with-qgis-6147ffaba2eb)"
   ]
  },
  {
   "cell_type": "markdown",
   "metadata": {},
   "source": [
    "We decided to drop the feature."
   ]
  },
  {
   "cell_type": "code",
   "execution_count": 100,
   "metadata": {},
   "outputs": [],
   "source": [
    "# dropping waterfront feature\n",
    "house = house.drop(['waterfront'], axis=1)"
   ]
  },
  {
   "cell_type": "code",
   "execution_count": 101,
   "metadata": {},
   "outputs": [
    {
     "data": {
      "text/plain": [
       "63"
      ]
     },
     "execution_count": 101,
     "metadata": {},
     "output_type": "execute_result"
    }
   ],
   "source": [
    "# checking null values for view feature\n",
    "house['view'].isnull().sum()"
   ]
  },
  {
   "cell_type": "code",
   "execution_count": 102,
   "metadata": {
    "scrolled": true
   },
   "outputs": [
    {
     "data": {
      "text/plain": [
       "NONE         19422\n",
       "AVERAGE        957\n",
       "GOOD           508\n",
       "FAIR           330\n",
       "EXCELLENT      317\n",
       "Name: view, dtype: int64"
      ]
     },
     "execution_count": 102,
     "metadata": {},
     "output_type": "execute_result"
    }
   ],
   "source": [
    "house['view'].value_counts()"
   ]
  },
  {
   "cell_type": "markdown",
   "metadata": {},
   "source": [
    "\"View\" feature has 63 null values which accounts for a very small percentage of the whole data set so we decide to drop the null values"
   ]
  },
  {
   "cell_type": "code",
   "execution_count": 103,
   "metadata": {},
   "outputs": [],
   "source": [
    "# dropping 63 records with null view values\n",
    "house = house.dropna(subset=['view'])"
   ]
  },
  {
   "cell_type": "code",
   "execution_count": 104,
   "metadata": {
    "scrolled": true
   },
   "outputs": [
    {
     "data": {
      "text/plain": [
       "Average      13981\n",
       "Good          5657\n",
       "Very Good     1697\n",
       "Fair           170\n",
       "Poor            29\n",
       "Name: condition, dtype: int64"
      ]
     },
     "execution_count": 104,
     "metadata": {},
     "output_type": "execute_result"
    }
   ],
   "source": [
    "house['condition'].value_counts() # no null values"
   ]
  },
  {
   "cell_type": "code",
   "execution_count": 105,
   "metadata": {},
   "outputs": [
    {
     "data": {
      "text/plain": [
       "0.0       16961\n",
       "2014.0       73\n",
       "2003.0       31\n",
       "2013.0       31\n",
       "2007.0       30\n",
       "          ...  \n",
       "1946.0        1\n",
       "1959.0        1\n",
       "1971.0        1\n",
       "1951.0        1\n",
       "1954.0        1\n",
       "Name: yr_renovated, Length: 70, dtype: int64"
      ]
     },
     "execution_count": 105,
     "metadata": {},
     "output_type": "execute_result"
    }
   ],
   "source": [
    "house['yr_renovated'].value_counts()"
   ]
  },
  {
   "cell_type": "code",
   "execution_count": 106,
   "metadata": {},
   "outputs": [
    {
     "data": {
      "text/plain": [
       "array([   0., 1991.,   nan, 2002., 2010., 1992., 2013., 1994., 1978.,\n",
       "       2005., 2003., 1984., 1954., 2014., 2011., 1983., 1945., 1990.,\n",
       "       1988., 1977., 1981., 1995., 2000., 1999., 1998., 1970., 1989.,\n",
       "       2004., 1986., 2007., 1987., 2006., 1985., 2001., 1980., 1971.,\n",
       "       1979., 1997., 1950., 1969., 1948., 2009., 2015., 1974., 2008.,\n",
       "       1968., 2012., 1963., 1951., 1962., 1953., 1993., 1996., 1955.,\n",
       "       1982., 1956., 1940., 1976., 1946., 1975., 1964., 1973., 1957.,\n",
       "       1959., 1960., 1967., 1965., 1934., 1972., 1944., 1958.])"
      ]
     },
     "execution_count": 106,
     "metadata": {},
     "output_type": "execute_result"
    }
   ],
   "source": [
    "house['yr_renovated'].unique()"
   ]
  },
  {
   "cell_type": "markdown",
   "metadata": {},
   "source": [
    "\"yr renovated\" feature - \n",
    "- with only 17704 non null values (82%)\n",
    "- out of the non-null values, 16961 (96% of non-nulls) have \"0\" value. \n",
    "- Essentially , almost 79% of the values are not giving us any information. \n",
    "\n",
    "We decide to drop the \"yr renovated\" column."
   ]
  },
  {
   "cell_type": "code",
   "execution_count": 107,
   "metadata": {},
   "outputs": [],
   "source": [
    "# dropping yr renovated column \n",
    "house = house.drop(['yr_renovated'], axis=1)"
   ]
  },
  {
   "cell_type": "code",
   "execution_count": 108,
   "metadata": {
    "scrolled": true
   },
   "outputs": [
    {
     "name": "stdout",
     "output_type": "stream",
     "text": [
      "<class 'pandas.core.frame.DataFrame'>\n",
      "Int64Index: 21534 entries, 0 to 21596\n",
      "Data columns (total 17 columns):\n",
      " #   Column         Non-Null Count  Dtype  \n",
      "---  ------         --------------  -----  \n",
      " 0   price          21534 non-null  float64\n",
      " 1   bedrooms       21534 non-null  int64  \n",
      " 2   bathrooms      21534 non-null  float64\n",
      " 3   sqft_living    21534 non-null  int64  \n",
      " 4   sqft_lot       21534 non-null  int64  \n",
      " 5   floors         21534 non-null  float64\n",
      " 6   view           21534 non-null  object \n",
      " 7   condition      21534 non-null  object \n",
      " 8   grade          21534 non-null  object \n",
      " 9   sqft_above     21534 non-null  int64  \n",
      " 10  sqft_basement  21534 non-null  object \n",
      " 11  yr_built       21534 non-null  int64  \n",
      " 12  zipcode        21534 non-null  int64  \n",
      " 13  lat            21534 non-null  float64\n",
      " 14  long           21534 non-null  float64\n",
      " 15  sqft_living15  21534 non-null  int64  \n",
      " 16  sqft_lot15     21534 non-null  int64  \n",
      "dtypes: float64(5), int64(8), object(4)\n",
      "memory usage: 3.0+ MB\n"
     ]
    }
   ],
   "source": [
    "house.info() #objects - View, condition and sqft_basement\n",
    "# leave as string and change later using OHE - view, condition"
   ]
  },
  {
   "cell_type": "code",
   "execution_count": 109,
   "metadata": {
    "scrolled": true
   },
   "outputs": [
    {
     "data": {
      "text/plain": [
       "array(['0.0', '400.0', '910.0', '1530.0', '?', '730.0', '1700.0', '300.0',\n",
       "       '970.0', '760.0', '720.0', '700.0', '820.0', '780.0', '790.0',\n",
       "       '330.0', '1620.0', '360.0', '588.0', '1510.0', '410.0', '990.0',\n",
       "       '600.0', '560.0', '550.0', '1000.0', '1600.0', '500.0', '1040.0',\n",
       "       '880.0', '1010.0', '240.0', '265.0', '290.0', '800.0', '540.0',\n",
       "       '840.0', '380.0', '770.0', '480.0', '570.0', '1490.0', '620.0',\n",
       "       '1250.0', '1270.0', '120.0', '650.0', '180.0', '1130.0', '450.0',\n",
       "       '1640.0', '1460.0', '1020.0', '1030.0', '750.0', '640.0', '1070.0',\n",
       "       '490.0', '1310.0', '630.0', '2000.0', '390.0', '430.0', '210.0',\n",
       "       '1430.0', '1950.0', '440.0', '220.0', '1160.0', '860.0', '580.0',\n",
       "       '2060.0', '1820.0', '1180.0', '200.0', '1150.0', '1200.0', '680.0',\n",
       "       '530.0', '1450.0', '1170.0', '1080.0', '960.0', '280.0', '870.0',\n",
       "       '1100.0', '460.0', '1400.0', '660.0', '1220.0', '900.0', '420.0',\n",
       "       '1580.0', '1380.0', '475.0', '690.0', '270.0', '350.0', '935.0',\n",
       "       '710.0', '1370.0', '980.0', '850.0', '1470.0', '160.0', '950.0',\n",
       "       '50.0', '740.0', '1780.0', '1900.0', '340.0', '470.0', '370.0',\n",
       "       '140.0', '1760.0', '130.0', '520.0', '890.0', '1110.0', '150.0',\n",
       "       '1720.0', '810.0', '190.0', '1290.0', '670.0', '1800.0', '1120.0',\n",
       "       '1810.0', '60.0', '1050.0', '940.0', '310.0', '930.0', '1390.0',\n",
       "       '610.0', '1830.0', '1300.0', '510.0', '1330.0', '1590.0', '920.0',\n",
       "       '1320.0', '1420.0', '1240.0', '1960.0', '1560.0', '2020.0',\n",
       "       '1190.0', '2110.0', '1280.0', '250.0', '1230.0', '170.0', '830.0',\n",
       "       '1260.0', '1410.0', '1340.0', '590.0', '1500.0', '1140.0', '260.0',\n",
       "       '100.0', '320.0', '1480.0', '1060.0', '1284.0', '1670.0', '1350.0',\n",
       "       '2570.0', '1090.0', '110.0', '2500.0', '90.0', '1940.0', '1550.0',\n",
       "       '2350.0', '2490.0', '1481.0', '1360.0', '1135.0', '1520.0',\n",
       "       '1850.0', '1660.0', '2130.0', '2600.0', '1690.0', '243.0',\n",
       "       '1210.0', '1024.0', '1798.0', '1610.0', '1440.0', '1570.0',\n",
       "       '1650.0', '704.0', '1910.0', '1630.0', '2360.0', '1852.0',\n",
       "       '2090.0', '2400.0', '1790.0', '2150.0', '230.0', '70.0', '1680.0',\n",
       "       '2100.0', '3000.0', '1870.0', '1710.0', '2030.0', '875.0',\n",
       "       '1540.0', '2850.0', '2170.0', '506.0', '906.0', '145.0', '2040.0',\n",
       "       '784.0', '1750.0', '374.0', '518.0', '2720.0', '2730.0', '1840.0',\n",
       "       '3480.0', '2160.0', '1920.0', '2330.0', '1860.0', '2050.0',\n",
       "       '4820.0', '1913.0', '80.0', '2010.0', '3260.0', '2200.0', '415.0',\n",
       "       '1730.0', '652.0', '2196.0', '1930.0', '515.0', '40.0', '2080.0',\n",
       "       '2580.0', '1548.0', '1740.0', '235.0', '861.0', '1890.0', '2220.0',\n",
       "       '792.0', '2070.0', '4130.0', '2250.0', '2240.0', '1990.0', '768.0',\n",
       "       '2550.0', '435.0', '1008.0', '2300.0', '2610.0', '666.0', '3500.0',\n",
       "       '172.0', '1816.0', '2190.0', '1245.0', '1525.0', '1880.0', '862.0',\n",
       "       '946.0', '1281.0', '414.0', '276.0', '1248.0', '602.0', '516.0',\n",
       "       '176.0', '225.0', '1275.0', '266.0', '283.0', '65.0', '2310.0',\n",
       "       '10.0', '1770.0', '2120.0', '295.0', '207.0', '915.0', '556.0',\n",
       "       '417.0', '143.0', '508.0', '2810.0', '20.0', '274.0', '248.0'],\n",
       "      dtype=object)"
      ]
     },
     "execution_count": 109,
     "metadata": {},
     "output_type": "execute_result"
    }
   ],
   "source": [
    "house['sqft_basement'].unique()"
   ]
  },
  {
   "cell_type": "code",
   "execution_count": 110,
   "metadata": {},
   "outputs": [
    {
     "data": {
      "text/html": [
       "<div>\n",
       "<style scoped>\n",
       "    .dataframe tbody tr th:only-of-type {\n",
       "        vertical-align: middle;\n",
       "    }\n",
       "\n",
       "    .dataframe tbody tr th {\n",
       "        vertical-align: top;\n",
       "    }\n",
       "\n",
       "    .dataframe thead th {\n",
       "        text-align: right;\n",
       "    }\n",
       "</style>\n",
       "<table border=\"1\" class=\"dataframe\">\n",
       "  <thead>\n",
       "    <tr style=\"text-align: right;\">\n",
       "      <th></th>\n",
       "      <th>price</th>\n",
       "      <th>bedrooms</th>\n",
       "      <th>bathrooms</th>\n",
       "      <th>sqft_living</th>\n",
       "      <th>sqft_lot</th>\n",
       "      <th>floors</th>\n",
       "      <th>view</th>\n",
       "      <th>condition</th>\n",
       "      <th>grade</th>\n",
       "      <th>sqft_above</th>\n",
       "      <th>sqft_basement</th>\n",
       "      <th>yr_built</th>\n",
       "      <th>zipcode</th>\n",
       "      <th>lat</th>\n",
       "      <th>long</th>\n",
       "      <th>sqft_living15</th>\n",
       "      <th>sqft_lot15</th>\n",
       "    </tr>\n",
       "  </thead>\n",
       "  <tbody>\n",
       "    <tr>\n",
       "      <th>6</th>\n",
       "      <td>257500.0</td>\n",
       "      <td>3</td>\n",
       "      <td>2.25</td>\n",
       "      <td>1715</td>\n",
       "      <td>6819</td>\n",
       "      <td>2.0</td>\n",
       "      <td>NONE</td>\n",
       "      <td>Average</td>\n",
       "      <td>7</td>\n",
       "      <td>1715</td>\n",
       "      <td>?</td>\n",
       "      <td>1995</td>\n",
       "      <td>98003</td>\n",
       "      <td>47.3097</td>\n",
       "      <td>-122.327</td>\n",
       "      <td>2238</td>\n",
       "      <td>6819</td>\n",
       "    </tr>\n",
       "    <tr>\n",
       "      <th>18</th>\n",
       "      <td>189000.0</td>\n",
       "      <td>2</td>\n",
       "      <td>1.00</td>\n",
       "      <td>1200</td>\n",
       "      <td>9850</td>\n",
       "      <td>1.0</td>\n",
       "      <td>NONE</td>\n",
       "      <td>Good</td>\n",
       "      <td>7</td>\n",
       "      <td>1200</td>\n",
       "      <td>?</td>\n",
       "      <td>1921</td>\n",
       "      <td>98002</td>\n",
       "      <td>47.3089</td>\n",
       "      <td>-122.210</td>\n",
       "      <td>1060</td>\n",
       "      <td>5095</td>\n",
       "    </tr>\n",
       "    <tr>\n",
       "      <th>42</th>\n",
       "      <td>861990.0</td>\n",
       "      <td>5</td>\n",
       "      <td>2.75</td>\n",
       "      <td>3595</td>\n",
       "      <td>5639</td>\n",
       "      <td>2.0</td>\n",
       "      <td>NONE</td>\n",
       "      <td>Average</td>\n",
       "      <td>9</td>\n",
       "      <td>3595</td>\n",
       "      <td>?</td>\n",
       "      <td>2014</td>\n",
       "      <td>98053</td>\n",
       "      <td>47.6848</td>\n",
       "      <td>-122.016</td>\n",
       "      <td>3625</td>\n",
       "      <td>5639</td>\n",
       "    </tr>\n",
       "    <tr>\n",
       "      <th>79</th>\n",
       "      <td>720000.0</td>\n",
       "      <td>4</td>\n",
       "      <td>2.50</td>\n",
       "      <td>3450</td>\n",
       "      <td>39683</td>\n",
       "      <td>2.0</td>\n",
       "      <td>NONE</td>\n",
       "      <td>Average</td>\n",
       "      <td>10</td>\n",
       "      <td>3450</td>\n",
       "      <td>?</td>\n",
       "      <td>2002</td>\n",
       "      <td>98010</td>\n",
       "      <td>47.3420</td>\n",
       "      <td>-122.025</td>\n",
       "      <td>3350</td>\n",
       "      <td>39750</td>\n",
       "    </tr>\n",
       "    <tr>\n",
       "      <th>112</th>\n",
       "      <td>272500.0</td>\n",
       "      <td>3</td>\n",
       "      <td>1.75</td>\n",
       "      <td>1540</td>\n",
       "      <td>12600</td>\n",
       "      <td>1.0</td>\n",
       "      <td>NONE</td>\n",
       "      <td>Good</td>\n",
       "      <td>7</td>\n",
       "      <td>1160</td>\n",
       "      <td>?</td>\n",
       "      <td>1980</td>\n",
       "      <td>98038</td>\n",
       "      <td>47.3624</td>\n",
       "      <td>-122.031</td>\n",
       "      <td>1540</td>\n",
       "      <td>11656</td>\n",
       "    </tr>\n",
       "    <tr>\n",
       "      <th>...</th>\n",
       "      <td>...</td>\n",
       "      <td>...</td>\n",
       "      <td>...</td>\n",
       "      <td>...</td>\n",
       "      <td>...</td>\n",
       "      <td>...</td>\n",
       "      <td>...</td>\n",
       "      <td>...</td>\n",
       "      <td>...</td>\n",
       "      <td>...</td>\n",
       "      <td>...</td>\n",
       "      <td>...</td>\n",
       "      <td>...</td>\n",
       "      <td>...</td>\n",
       "      <td>...</td>\n",
       "      <td>...</td>\n",
       "      <td>...</td>\n",
       "    </tr>\n",
       "    <tr>\n",
       "      <th>21442</th>\n",
       "      <td>504600.0</td>\n",
       "      <td>5</td>\n",
       "      <td>3.00</td>\n",
       "      <td>2360</td>\n",
       "      <td>5000</td>\n",
       "      <td>1.0</td>\n",
       "      <td>NONE</td>\n",
       "      <td>Average</td>\n",
       "      <td>7</td>\n",
       "      <td>1390</td>\n",
       "      <td>?</td>\n",
       "      <td>2008</td>\n",
       "      <td>98103</td>\n",
       "      <td>47.6931</td>\n",
       "      <td>-122.330</td>\n",
       "      <td>2180</td>\n",
       "      <td>5009</td>\n",
       "    </tr>\n",
       "    <tr>\n",
       "      <th>21447</th>\n",
       "      <td>337500.0</td>\n",
       "      <td>4</td>\n",
       "      <td>2.50</td>\n",
       "      <td>2330</td>\n",
       "      <td>4907</td>\n",
       "      <td>2.0</td>\n",
       "      <td>NONE</td>\n",
       "      <td>Average</td>\n",
       "      <td>7</td>\n",
       "      <td>2330</td>\n",
       "      <td>?</td>\n",
       "      <td>2013</td>\n",
       "      <td>98042</td>\n",
       "      <td>47.3590</td>\n",
       "      <td>-122.081</td>\n",
       "      <td>2300</td>\n",
       "      <td>3836</td>\n",
       "    </tr>\n",
       "    <tr>\n",
       "      <th>21473</th>\n",
       "      <td>352500.0</td>\n",
       "      <td>2</td>\n",
       "      <td>2.50</td>\n",
       "      <td>980</td>\n",
       "      <td>1010</td>\n",
       "      <td>3.0</td>\n",
       "      <td>NONE</td>\n",
       "      <td>Average</td>\n",
       "      <td>8</td>\n",
       "      <td>980</td>\n",
       "      <td>?</td>\n",
       "      <td>2008</td>\n",
       "      <td>98117</td>\n",
       "      <td>47.6844</td>\n",
       "      <td>-122.387</td>\n",
       "      <td>980</td>\n",
       "      <td>1023</td>\n",
       "    </tr>\n",
       "    <tr>\n",
       "      <th>21519</th>\n",
       "      <td>332000.0</td>\n",
       "      <td>4</td>\n",
       "      <td>2.50</td>\n",
       "      <td>2380</td>\n",
       "      <td>5737</td>\n",
       "      <td>2.0</td>\n",
       "      <td>NONE</td>\n",
       "      <td>Average</td>\n",
       "      <td>7</td>\n",
       "      <td>2380</td>\n",
       "      <td>?</td>\n",
       "      <td>2010</td>\n",
       "      <td>98023</td>\n",
       "      <td>47.2815</td>\n",
       "      <td>-122.356</td>\n",
       "      <td>2380</td>\n",
       "      <td>5396</td>\n",
       "    </tr>\n",
       "    <tr>\n",
       "      <th>21581</th>\n",
       "      <td>1580000.0</td>\n",
       "      <td>4</td>\n",
       "      <td>3.25</td>\n",
       "      <td>3410</td>\n",
       "      <td>10125</td>\n",
       "      <td>2.0</td>\n",
       "      <td>NONE</td>\n",
       "      <td>Average</td>\n",
       "      <td>10</td>\n",
       "      <td>3410</td>\n",
       "      <td>?</td>\n",
       "      <td>2007</td>\n",
       "      <td>98040</td>\n",
       "      <td>47.5653</td>\n",
       "      <td>-122.223</td>\n",
       "      <td>2290</td>\n",
       "      <td>10125</td>\n",
       "    </tr>\n",
       "  </tbody>\n",
       "</table>\n",
       "<p>452 rows × 17 columns</p>\n",
       "</div>"
      ],
      "text/plain": [
       "           price  bedrooms  bathrooms  sqft_living  sqft_lot  floors  view  \\\n",
       "6       257500.0         3       2.25         1715      6819     2.0  NONE   \n",
       "18      189000.0         2       1.00         1200      9850     1.0  NONE   \n",
       "42      861990.0         5       2.75         3595      5639     2.0  NONE   \n",
       "79      720000.0         4       2.50         3450     39683     2.0  NONE   \n",
       "112     272500.0         3       1.75         1540     12600     1.0  NONE   \n",
       "...          ...       ...        ...          ...       ...     ...   ...   \n",
       "21442   504600.0         5       3.00         2360      5000     1.0  NONE   \n",
       "21447   337500.0         4       2.50         2330      4907     2.0  NONE   \n",
       "21473   352500.0         2       2.50          980      1010     3.0  NONE   \n",
       "21519   332000.0         4       2.50         2380      5737     2.0  NONE   \n",
       "21581  1580000.0         4       3.25         3410     10125     2.0  NONE   \n",
       "\n",
       "      condition grade  sqft_above sqft_basement  yr_built  zipcode      lat  \\\n",
       "6       Average     7        1715             ?      1995    98003  47.3097   \n",
       "18         Good     7        1200             ?      1921    98002  47.3089   \n",
       "42      Average     9        3595             ?      2014    98053  47.6848   \n",
       "79      Average    10        3450             ?      2002    98010  47.3420   \n",
       "112        Good     7        1160             ?      1980    98038  47.3624   \n",
       "...         ...   ...         ...           ...       ...      ...      ...   \n",
       "21442   Average     7        1390             ?      2008    98103  47.6931   \n",
       "21447   Average     7        2330             ?      2013    98042  47.3590   \n",
       "21473   Average     8         980             ?      2008    98117  47.6844   \n",
       "21519   Average     7        2380             ?      2010    98023  47.2815   \n",
       "21581   Average    10        3410             ?      2007    98040  47.5653   \n",
       "\n",
       "          long  sqft_living15  sqft_lot15  \n",
       "6     -122.327           2238        6819  \n",
       "18    -122.210           1060        5095  \n",
       "42    -122.016           3625        5639  \n",
       "79    -122.025           3350       39750  \n",
       "112   -122.031           1540       11656  \n",
       "...        ...            ...         ...  \n",
       "21442 -122.330           2180        5009  \n",
       "21447 -122.081           2300        3836  \n",
       "21473 -122.387            980        1023  \n",
       "21519 -122.356           2380        5396  \n",
       "21581 -122.223           2290       10125  \n",
       "\n",
       "[452 rows x 17 columns]"
      ]
     },
     "execution_count": 110,
     "metadata": {},
     "output_type": "execute_result"
    }
   ],
   "source": [
    "house.loc[house['sqft_basement'] == '?'] "
   ]
  },
  {
   "cell_type": "markdown",
   "metadata": {},
   "source": [
    "For feature \"sqft_basement\" we notice \"?\" values for 452 entries. We decide to drop the feature itself as we feel sqft_above is better and cleaner feature. \n",
    "\n",
    "Note:\n",
    "sqft_living = sqft_above + sqft_basement"
   ]
  },
  {
   "cell_type": "code",
   "execution_count": 111,
   "metadata": {},
   "outputs": [],
   "source": [
    "house = house.drop(['sqft_basement'], axis=1)"
   ]
  },
  {
   "cell_type": "code",
   "execution_count": 112,
   "metadata": {},
   "outputs": [
    {
     "name": "stdout",
     "output_type": "stream",
     "text": [
      "<class 'pandas.core.frame.DataFrame'>\n",
      "Int64Index: 21534 entries, 0 to 21596\n",
      "Data columns (total 16 columns):\n",
      " #   Column         Non-Null Count  Dtype  \n",
      "---  ------         --------------  -----  \n",
      " 0   price          21534 non-null  float64\n",
      " 1   bedrooms       21534 non-null  int64  \n",
      " 2   bathrooms      21534 non-null  float64\n",
      " 3   sqft_living    21534 non-null  int64  \n",
      " 4   sqft_lot       21534 non-null  int64  \n",
      " 5   floors         21534 non-null  float64\n",
      " 6   view           21534 non-null  object \n",
      " 7   condition      21534 non-null  object \n",
      " 8   grade          21534 non-null  object \n",
      " 9   sqft_above     21534 non-null  int64  \n",
      " 10  yr_built       21534 non-null  int64  \n",
      " 11  zipcode        21534 non-null  int64  \n",
      " 12  lat            21534 non-null  float64\n",
      " 13  long           21534 non-null  float64\n",
      " 14  sqft_living15  21534 non-null  int64  \n",
      " 15  sqft_lot15     21534 non-null  int64  \n",
      "dtypes: float64(5), int64(8), object(3)\n",
      "memory usage: 2.8+ MB\n"
     ]
    }
   ],
   "source": [
    "house.info()"
   ]
  },
  {
   "cell_type": "markdown",
   "metadata": {},
   "source": [
    "## Adding population data"
   ]
  },
  {
   "cell_type": "code",
   "execution_count": 113,
   "metadata": {},
   "outputs": [],
   "source": [
    "popdf = pd.read_csv('./data/popdata.csv')"
   ]
  },
  {
   "cell_type": "code",
   "execution_count": 114,
   "metadata": {},
   "outputs": [],
   "source": [
    "areadf = pd.read_csv('./data/KC_area.csv',header=1)"
   ]
  },
  {
   "cell_type": "code",
   "execution_count": 115,
   "metadata": {},
   "outputs": [],
   "source": [
    "areadf.drop(areadf.columns[0],axis= 1,inplace=True)"
   ]
  },
  {
   "cell_type": "code",
   "execution_count": 116,
   "metadata": {},
   "outputs": [
    {
     "data": {
      "text/html": [
       "<div>\n",
       "<style scoped>\n",
       "    .dataframe tbody tr th:only-of-type {\n",
       "        vertical-align: middle;\n",
       "    }\n",
       "\n",
       "    .dataframe tbody tr th {\n",
       "        vertical-align: top;\n",
       "    }\n",
       "\n",
       "    .dataframe thead th {\n",
       "        text-align: right;\n",
       "    }\n",
       "</style>\n",
       "<table border=\"1\" class=\"dataframe\">\n",
       "  <thead>\n",
       "    <tr style=\"text-align: right;\">\n",
       "      <th></th>\n",
       "      <th>zip</th>\n",
       "      <th>city</th>\n",
       "      <th>county</th>\n",
       "      <th>pop</th>\n",
       "      <th>ZIP Code</th>\n",
       "      <th>City</th>\n",
       "      <th>County</th>\n",
       "      <th>Land Area (Sq. Meters)</th>\n",
       "      <th>Land Area (Sq. Miles)</th>\n",
       "      <th>Land Area (Sq. Kilometers)</th>\n",
       "    </tr>\n",
       "  </thead>\n",
       "  <tbody>\n",
       "    <tr>\n",
       "      <th>0</th>\n",
       "      <td>99301</td>\n",
       "      <td>Pasco</td>\n",
       "      <td>Franklin</td>\n",
       "      <td>79819</td>\n",
       "      <td>98001</td>\n",
       "      <td>Algona, Auburn, Federal Way, Lakeland North, L...</td>\n",
       "      <td>King County</td>\n",
       "      <td>48,144,700</td>\n",
       "      <td>19</td>\n",
       "      <td>48</td>\n",
       "    </tr>\n",
       "    <tr>\n",
       "      <th>1</th>\n",
       "      <td>98052</td>\n",
       "      <td>Redmond</td>\n",
       "      <td>King</td>\n",
       "      <td>70245</td>\n",
       "      <td>98002</td>\n",
       "      <td>Auburn, Pacific</td>\n",
       "      <td>King County</td>\n",
       "      <td>18,530,000</td>\n",
       "      <td>7</td>\n",
       "      <td>19</td>\n",
       "    </tr>\n",
       "    <tr>\n",
       "      <th>2</th>\n",
       "      <td>98012</td>\n",
       "      <td>Bothell</td>\n",
       "      <td>Snohomish</td>\n",
       "      <td>67427</td>\n",
       "      <td>98003</td>\n",
       "      <td>Federal Way, Lakeland South, Milton</td>\n",
       "      <td>King County</td>\n",
       "      <td>30,089,500</td>\n",
       "      <td>12</td>\n",
       "      <td>30</td>\n",
       "    </tr>\n",
       "    <tr>\n",
       "      <th>3</th>\n",
       "      <td>98682</td>\n",
       "      <td>Vancouver</td>\n",
       "      <td>Clark</td>\n",
       "      <td>60887</td>\n",
       "      <td>98004</td>\n",
       "      <td>Beaux Arts Village, Bellevue, Clyde Hill, Hunt...</td>\n",
       "      <td>King County</td>\n",
       "      <td>18,200,300</td>\n",
       "      <td>7</td>\n",
       "      <td>18</td>\n",
       "    </tr>\n",
       "    <tr>\n",
       "      <th>4</th>\n",
       "      <td>98208</td>\n",
       "      <td>Everett</td>\n",
       "      <td>Snohomish</td>\n",
       "      <td>58162</td>\n",
       "      <td>98005</td>\n",
       "      <td>Bellevue</td>\n",
       "      <td>King County</td>\n",
       "      <td>19,429,600</td>\n",
       "      <td>8</td>\n",
       "      <td>19</td>\n",
       "    </tr>\n",
       "    <tr>\n",
       "      <th>...</th>\n",
       "      <td>...</td>\n",
       "      <td>...</td>\n",
       "      <td>...</td>\n",
       "      <td>...</td>\n",
       "      <td>...</td>\n",
       "      <td>...</td>\n",
       "      <td>...</td>\n",
       "      <td>...</td>\n",
       "      <td>...</td>\n",
       "      <td>...</td>\n",
       "    </tr>\n",
       "    <tr>\n",
       "      <th>517</th>\n",
       "      <td>99124</td>\n",
       "      <td>Elmer City</td>\n",
       "      <td>Okanogan</td>\n",
       "      <td>271</td>\n",
       "      <td>99362</td>\n",
       "      <td>College Place, Garrett, Walla Walla, Walla Wal...</td>\n",
       "      <td>Umatilla County, Walla Walla County</td>\n",
       "      <td>740,792,000</td>\n",
       "      <td>286</td>\n",
       "      <td>741</td>\n",
       "    </tr>\n",
       "    <tr>\n",
       "      <th>518</th>\n",
       "      <td>98621</td>\n",
       "      <td>Grays River</td>\n",
       "      <td>Wahkiakum</td>\n",
       "      <td>269</td>\n",
       "      <td>99363</td>\n",
       "      <td>Wallula</td>\n",
       "      <td>Walla Walla County</td>\n",
       "      <td>115,344,000</td>\n",
       "      <td>45</td>\n",
       "      <td>115</td>\n",
       "    </tr>\n",
       "    <tr>\n",
       "      <th>519</th>\n",
       "      <td>98628</td>\n",
       "      <td>Klickitat</td>\n",
       "      <td>Klickitat</td>\n",
       "      <td>263</td>\n",
       "      <td>99371</td>\n",
       "      <td>Washtucna</td>\n",
       "      <td>Adams County, Franklin County</td>\n",
       "      <td>527,778,000</td>\n",
       "      <td>204</td>\n",
       "      <td>528</td>\n",
       "    </tr>\n",
       "    <tr>\n",
       "      <th>520</th>\n",
       "      <td>99322</td>\n",
       "      <td>Bickleton</td>\n",
       "      <td>Klickitat</td>\n",
       "      <td>242</td>\n",
       "      <td>99402</td>\n",
       "      <td>Asotin</td>\n",
       "      <td>Asotin County</td>\n",
       "      <td>741,921,000</td>\n",
       "      <td>286</td>\n",
       "      <td>742</td>\n",
       "    </tr>\n",
       "    <tr>\n",
       "      <th>521</th>\n",
       "      <td>98940</td>\n",
       "      <td>Ronald</td>\n",
       "      <td>Kittitas</td>\n",
       "      <td>241</td>\n",
       "      <td>99403</td>\n",
       "      <td>Asotin, Clarkston, Clarkston Heights-Vineland,...</td>\n",
       "      <td>Asotin County, Garfield County</td>\n",
       "      <td>395,975,000</td>\n",
       "      <td>153</td>\n",
       "      <td>396</td>\n",
       "    </tr>\n",
       "  </tbody>\n",
       "</table>\n",
       "<p>522 rows × 10 columns</p>\n",
       "</div>"
      ],
      "text/plain": [
       "       zip         city     county    pop  ZIP Code  \\\n",
       "0    99301        Pasco   Franklin  79819     98001   \n",
       "1    98052      Redmond       King  70245     98002   \n",
       "2    98012      Bothell  Snohomish  67427     98003   \n",
       "3    98682    Vancouver      Clark  60887     98004   \n",
       "4    98208      Everett  Snohomish  58162     98005   \n",
       "..     ...          ...        ...    ...       ...   \n",
       "517  99124   Elmer City   Okanogan    271     99362   \n",
       "518  98621  Grays River  Wahkiakum    269     99363   \n",
       "519  98628    Klickitat  Klickitat    263     99371   \n",
       "520  99322    Bickleton  Klickitat    242     99402   \n",
       "521  98940       Ronald   Kittitas    241     99403   \n",
       "\n",
       "                                                  City  \\\n",
       "0    Algona, Auburn, Federal Way, Lakeland North, L...   \n",
       "1                                      Auburn, Pacific   \n",
       "2                  Federal Way, Lakeland South, Milton   \n",
       "3    Beaux Arts Village, Bellevue, Clyde Hill, Hunt...   \n",
       "4                                             Bellevue   \n",
       "..                                                 ...   \n",
       "517  College Place, Garrett, Walla Walla, Walla Wal...   \n",
       "518                                            Wallula   \n",
       "519                                          Washtucna   \n",
       "520                                             Asotin   \n",
       "521  Asotin, Clarkston, Clarkston Heights-Vineland,...   \n",
       "\n",
       "                                  County Land Area (Sq. Meters)  \\\n",
       "0                            King County             48,144,700   \n",
       "1                            King County             18,530,000   \n",
       "2                            King County             30,089,500   \n",
       "3                            King County             18,200,300   \n",
       "4                            King County             19,429,600   \n",
       "..                                   ...                    ...   \n",
       "517  Umatilla County, Walla Walla County            740,792,000   \n",
       "518                   Walla Walla County            115,344,000   \n",
       "519        Adams County, Franklin County            527,778,000   \n",
       "520                        Asotin County            741,921,000   \n",
       "521       Asotin County, Garfield County            395,975,000   \n",
       "\n",
       "    Land Area (Sq. Miles) Land Area (Sq. Kilometers)  \n",
       "0                      19                         48  \n",
       "1                       7                         19  \n",
       "2                      12                         30  \n",
       "3                       7                         18  \n",
       "4                       8                         19  \n",
       "..                    ...                        ...  \n",
       "517                   286                        741  \n",
       "518                    45                        115  \n",
       "519                   204                        528  \n",
       "520                   286                        742  \n",
       "521                   153                        396  \n",
       "\n",
       "[522 rows x 10 columns]"
      ]
     },
     "execution_count": 116,
     "metadata": {},
     "output_type": "execute_result"
    }
   ],
   "source": [
    "king_pop = popdf[popdf[\"county\"]=='King']\n",
    "\n",
    "king_area = areadf[areadf[\"County\"]==\"King County\"]\n",
    "\n",
    "pd.concat([popdf, areadf], axis=1, join=\"inner\")"
   ]
  },
  {
   "cell_type": "code",
   "execution_count": 117,
   "metadata": {},
   "outputs": [
    {
     "data": {
      "text/html": [
       "<div>\n",
       "<style scoped>\n",
       "    .dataframe tbody tr th:only-of-type {\n",
       "        vertical-align: middle;\n",
       "    }\n",
       "\n",
       "    .dataframe tbody tr th {\n",
       "        vertical-align: top;\n",
       "    }\n",
       "\n",
       "    .dataframe thead th {\n",
       "        text-align: right;\n",
       "    }\n",
       "</style>\n",
       "<table border=\"1\" class=\"dataframe\">\n",
       "  <thead>\n",
       "    <tr style=\"text-align: right;\">\n",
       "      <th></th>\n",
       "      <th>zip</th>\n",
       "      <th>city</th>\n",
       "      <th>county</th>\n",
       "      <th>pop</th>\n",
       "      <th>ZIP Code</th>\n",
       "      <th>City</th>\n",
       "      <th>County</th>\n",
       "      <th>Land Area (Sq. Meters)</th>\n",
       "      <th>Land Area (Sq. Miles)</th>\n",
       "      <th>Land Area (Sq. Kilometers)</th>\n",
       "    </tr>\n",
       "  </thead>\n",
       "  <tbody>\n",
       "    <tr>\n",
       "      <th>0</th>\n",
       "      <td>99301</td>\n",
       "      <td>Pasco</td>\n",
       "      <td>Franklin</td>\n",
       "      <td>79819</td>\n",
       "      <td>98001</td>\n",
       "      <td>Algona, Auburn, Federal Way, Lakeland North, L...</td>\n",
       "      <td>King County</td>\n",
       "      <td>48,144,700</td>\n",
       "      <td>19</td>\n",
       "      <td>48</td>\n",
       "    </tr>\n",
       "    <tr>\n",
       "      <th>1</th>\n",
       "      <td>98052</td>\n",
       "      <td>Redmond</td>\n",
       "      <td>King</td>\n",
       "      <td>70245</td>\n",
       "      <td>98002</td>\n",
       "      <td>Auburn, Pacific</td>\n",
       "      <td>King County</td>\n",
       "      <td>18,530,000</td>\n",
       "      <td>7</td>\n",
       "      <td>19</td>\n",
       "    </tr>\n",
       "    <tr>\n",
       "      <th>2</th>\n",
       "      <td>98012</td>\n",
       "      <td>Bothell</td>\n",
       "      <td>Snohomish</td>\n",
       "      <td>67427</td>\n",
       "      <td>98003</td>\n",
       "      <td>Federal Way, Lakeland South, Milton</td>\n",
       "      <td>King County</td>\n",
       "      <td>30,089,500</td>\n",
       "      <td>12</td>\n",
       "      <td>30</td>\n",
       "    </tr>\n",
       "    <tr>\n",
       "      <th>3</th>\n",
       "      <td>98682</td>\n",
       "      <td>Vancouver</td>\n",
       "      <td>Clark</td>\n",
       "      <td>60887</td>\n",
       "      <td>98004</td>\n",
       "      <td>Beaux Arts Village, Bellevue, Clyde Hill, Hunt...</td>\n",
       "      <td>King County</td>\n",
       "      <td>18,200,300</td>\n",
       "      <td>7</td>\n",
       "      <td>18</td>\n",
       "    </tr>\n",
       "    <tr>\n",
       "      <th>4</th>\n",
       "      <td>98208</td>\n",
       "      <td>Everett</td>\n",
       "      <td>Snohomish</td>\n",
       "      <td>58162</td>\n",
       "      <td>98005</td>\n",
       "      <td>Bellevue</td>\n",
       "      <td>King County</td>\n",
       "      <td>19,429,600</td>\n",
       "      <td>8</td>\n",
       "      <td>19</td>\n",
       "    </tr>\n",
       "    <tr>\n",
       "      <th>...</th>\n",
       "      <td>...</td>\n",
       "      <td>...</td>\n",
       "      <td>...</td>\n",
       "      <td>...</td>\n",
       "      <td>...</td>\n",
       "      <td>...</td>\n",
       "      <td>...</td>\n",
       "      <td>...</td>\n",
       "      <td>...</td>\n",
       "      <td>...</td>\n",
       "    </tr>\n",
       "    <tr>\n",
       "      <th>517</th>\n",
       "      <td>99124</td>\n",
       "      <td>Elmer City</td>\n",
       "      <td>Okanogan</td>\n",
       "      <td>271</td>\n",
       "      <td>99362</td>\n",
       "      <td>College Place, Garrett, Walla Walla, Walla Wal...</td>\n",
       "      <td>Umatilla County, Walla Walla County</td>\n",
       "      <td>740,792,000</td>\n",
       "      <td>286</td>\n",
       "      <td>741</td>\n",
       "    </tr>\n",
       "    <tr>\n",
       "      <th>518</th>\n",
       "      <td>98621</td>\n",
       "      <td>Grays River</td>\n",
       "      <td>Wahkiakum</td>\n",
       "      <td>269</td>\n",
       "      <td>99363</td>\n",
       "      <td>Wallula</td>\n",
       "      <td>Walla Walla County</td>\n",
       "      <td>115,344,000</td>\n",
       "      <td>45</td>\n",
       "      <td>115</td>\n",
       "    </tr>\n",
       "    <tr>\n",
       "      <th>519</th>\n",
       "      <td>98628</td>\n",
       "      <td>Klickitat</td>\n",
       "      <td>Klickitat</td>\n",
       "      <td>263</td>\n",
       "      <td>99371</td>\n",
       "      <td>Washtucna</td>\n",
       "      <td>Adams County, Franklin County</td>\n",
       "      <td>527,778,000</td>\n",
       "      <td>204</td>\n",
       "      <td>528</td>\n",
       "    </tr>\n",
       "    <tr>\n",
       "      <th>520</th>\n",
       "      <td>99322</td>\n",
       "      <td>Bickleton</td>\n",
       "      <td>Klickitat</td>\n",
       "      <td>242</td>\n",
       "      <td>99402</td>\n",
       "      <td>Asotin</td>\n",
       "      <td>Asotin County</td>\n",
       "      <td>741,921,000</td>\n",
       "      <td>286</td>\n",
       "      <td>742</td>\n",
       "    </tr>\n",
       "    <tr>\n",
       "      <th>521</th>\n",
       "      <td>98940</td>\n",
       "      <td>Ronald</td>\n",
       "      <td>Kittitas</td>\n",
       "      <td>241</td>\n",
       "      <td>99403</td>\n",
       "      <td>Asotin, Clarkston, Clarkston Heights-Vineland,...</td>\n",
       "      <td>Asotin County, Garfield County</td>\n",
       "      <td>395,975,000</td>\n",
       "      <td>153</td>\n",
       "      <td>396</td>\n",
       "    </tr>\n",
       "  </tbody>\n",
       "</table>\n",
       "<p>522 rows × 10 columns</p>\n",
       "</div>"
      ],
      "text/plain": [
       "       zip         city     county    pop  ZIP Code  \\\n",
       "0    99301        Pasco   Franklin  79819     98001   \n",
       "1    98052      Redmond       King  70245     98002   \n",
       "2    98012      Bothell  Snohomish  67427     98003   \n",
       "3    98682    Vancouver      Clark  60887     98004   \n",
       "4    98208      Everett  Snohomish  58162     98005   \n",
       "..     ...          ...        ...    ...       ...   \n",
       "517  99124   Elmer City   Okanogan    271     99362   \n",
       "518  98621  Grays River  Wahkiakum    269     99363   \n",
       "519  98628    Klickitat  Klickitat    263     99371   \n",
       "520  99322    Bickleton  Klickitat    242     99402   \n",
       "521  98940       Ronald   Kittitas    241     99403   \n",
       "\n",
       "                                                  City  \\\n",
       "0    Algona, Auburn, Federal Way, Lakeland North, L...   \n",
       "1                                      Auburn, Pacific   \n",
       "2                  Federal Way, Lakeland South, Milton   \n",
       "3    Beaux Arts Village, Bellevue, Clyde Hill, Hunt...   \n",
       "4                                             Bellevue   \n",
       "..                                                 ...   \n",
       "517  College Place, Garrett, Walla Walla, Walla Wal...   \n",
       "518                                            Wallula   \n",
       "519                                          Washtucna   \n",
       "520                                             Asotin   \n",
       "521  Asotin, Clarkston, Clarkston Heights-Vineland,...   \n",
       "\n",
       "                                  County Land Area (Sq. Meters)  \\\n",
       "0                            King County             48,144,700   \n",
       "1                            King County             18,530,000   \n",
       "2                            King County             30,089,500   \n",
       "3                            King County             18,200,300   \n",
       "4                            King County             19,429,600   \n",
       "..                                   ...                    ...   \n",
       "517  Umatilla County, Walla Walla County            740,792,000   \n",
       "518                   Walla Walla County            115,344,000   \n",
       "519        Adams County, Franklin County            527,778,000   \n",
       "520                        Asotin County            741,921,000   \n",
       "521       Asotin County, Garfield County            395,975,000   \n",
       "\n",
       "    Land Area (Sq. Miles) Land Area (Sq. Kilometers)  \n",
       "0                      19                         48  \n",
       "1                       7                         19  \n",
       "2                      12                         30  \n",
       "3                       7                         18  \n",
       "4                       8                         19  \n",
       "..                    ...                        ...  \n",
       "517                   286                        741  \n",
       "518                    45                        115  \n",
       "519                   204                        528  \n",
       "520                   286                        742  \n",
       "521                   153                        396  \n",
       "\n",
       "[522 rows x 10 columns]"
      ]
     },
     "execution_count": 117,
     "metadata": {},
     "output_type": "execute_result"
    }
   ],
   "source": [
    "king_pop = popdf[popdf[\"county\"]=='King']\n",
    "\n",
    "king_area = areadf[areadf[\"County\"]==\"King County\"]\n",
    "\n",
    "pd.concat([popdf, areadf], axis=1, join=\"inner\")"
   ]
  },
  {
   "cell_type": "code",
   "execution_count": 118,
   "metadata": {},
   "outputs": [],
   "source": [
    "king_data = pd.merge(\n",
    "    king_area,\n",
    "    king_pop,\n",
    "    how=\"inner\",\n",
    "    on=None,\n",
    "    left_on=\"ZIP Code\",\n",
    "    right_on='zip',\n",
    "    left_index=False,\n",
    "    right_index=False,\n",
    "    sort=True,\n",
    "    suffixes=(\"_x\", \"_y\"),\n",
    "    copy=True,\n",
    "    indicator=False,\n",
    "    validate=None,\n",
    ")"
   ]
  },
  {
   "cell_type": "code",
   "execution_count": 119,
   "metadata": {},
   "outputs": [
    {
     "data": {
      "text/html": [
       "<div>\n",
       "<style scoped>\n",
       "    .dataframe tbody tr th:only-of-type {\n",
       "        vertical-align: middle;\n",
       "    }\n",
       "\n",
       "    .dataframe tbody tr th {\n",
       "        vertical-align: top;\n",
       "    }\n",
       "\n",
       "    .dataframe thead th {\n",
       "        text-align: right;\n",
       "    }\n",
       "</style>\n",
       "<table border=\"1\" class=\"dataframe\">\n",
       "  <thead>\n",
       "    <tr style=\"text-align: right;\">\n",
       "      <th></th>\n",
       "      <th>ZIP Code</th>\n",
       "      <th>Land Area (Sq. Meters)</th>\n",
       "      <th>city</th>\n",
       "      <th>county</th>\n",
       "      <th>pop</th>\n",
       "    </tr>\n",
       "  </thead>\n",
       "  <tbody>\n",
       "    <tr>\n",
       "      <th>0</th>\n",
       "      <td>98001</td>\n",
       "      <td>48,144,700</td>\n",
       "      <td>Auburn</td>\n",
       "      <td>King</td>\n",
       "      <td>33699</td>\n",
       "    </tr>\n",
       "    <tr>\n",
       "      <th>1</th>\n",
       "      <td>98002</td>\n",
       "      <td>18,530,000</td>\n",
       "      <td>Auburn</td>\n",
       "      <td>King</td>\n",
       "      <td>33468</td>\n",
       "    </tr>\n",
       "    <tr>\n",
       "      <th>2</th>\n",
       "      <td>98003</td>\n",
       "      <td>30,089,500</td>\n",
       "      <td>Federal Way</td>\n",
       "      <td>King</td>\n",
       "      <td>49533</td>\n",
       "    </tr>\n",
       "    <tr>\n",
       "      <th>3</th>\n",
       "      <td>98004</td>\n",
       "      <td>18,200,300</td>\n",
       "      <td>Bellevue</td>\n",
       "      <td>King</td>\n",
       "      <td>36202</td>\n",
       "    </tr>\n",
       "    <tr>\n",
       "      <th>4</th>\n",
       "      <td>98005</td>\n",
       "      <td>19,429,600</td>\n",
       "      <td>Bellevue</td>\n",
       "      <td>King</td>\n",
       "      <td>19223</td>\n",
       "    </tr>\n",
       "  </tbody>\n",
       "</table>\n",
       "</div>"
      ],
      "text/plain": [
       "   ZIP Code Land Area (Sq. Meters)         city county    pop\n",
       "0     98001             48,144,700       Auburn   King  33699\n",
       "1     98002             18,530,000       Auburn   King  33468\n",
       "2     98003             30,089,500  Federal Way   King  49533\n",
       "3     98004             18,200,300     Bellevue   King  36202\n",
       "4     98005             19,429,600     Bellevue   King  19223"
      ]
     },
     "execution_count": 119,
     "metadata": {},
     "output_type": "execute_result"
    }
   ],
   "source": [
    "king_data_compact =king_data.drop(columns=['City','County','Land Area (Sq. Miles)','Land Area (Sq. Kilometers)','zip'])\n",
    "\n",
    "king_data_compact.head()"
   ]
  },
  {
   "cell_type": "code",
   "execution_count": 120,
   "metadata": {},
   "outputs": [],
   "source": [
    "def remove_chars(ds,char):\n",
    "    \"\"\"\n",
    "    remove characters from the data series\n",
    "    -\n",
    "    ds: data series, lists. Element in data series or list must be a string.\n",
    "    char: character to be removed. Accepts lists\n",
    "    \"\"\"\n",
    "    for char in char:\n",
    "        idx = 0\n",
    "        for row in ds:\n",
    "            if char in row:\n",
    "                ds[idx] = row.replace(char,\"\")\n",
    "            idx +=1\n",
    "    return ds"
   ]
  },
  {
   "cell_type": "code",
   "execution_count": 121,
   "metadata": {},
   "outputs": [
    {
     "name": "stderr",
     "output_type": "stream",
     "text": [
      "<ipython-input-120-968c3d56aa1e>:12: SettingWithCopyWarning: \n",
      "A value is trying to be set on a copy of a slice from a DataFrame\n",
      "\n",
      "See the caveats in the documentation: https://pandas.pydata.org/pandas-docs/stable/user_guide/indexing.html#returning-a-view-versus-a-copy\n",
      "  ds[idx] = row.replace(char,\"\")\n"
     ]
    },
    {
     "data": {
      "text/plain": [
       "0      48144700\n",
       "1      18530000\n",
       "2      30089500\n",
       "3      18200300\n",
       "4      19429600\n",
       "        ...    \n",
       "73       183452\n",
       "74     20167200\n",
       "75     10815400\n",
       "76    510454000\n",
       "77    547876000\n",
       "Name: Land Area (Sq. Meters), Length: 78, dtype: object"
      ]
     },
     "execution_count": 121,
     "metadata": {},
     "output_type": "execute_result"
    }
   ],
   "source": [
    "remove_chars(king_data_compact[\"Land Area (Sq. Meters)\"],',')"
   ]
  },
  {
   "cell_type": "code",
   "execution_count": 122,
   "metadata": {},
   "outputs": [],
   "source": [
    "king_data_compact['Land Area (Sq. Meters)']= king_data_compact['Land Area (Sq. Meters)'].astype(int)"
   ]
  },
  {
   "cell_type": "code",
   "execution_count": 123,
   "metadata": {},
   "outputs": [],
   "source": [
    "king_data_compact['density'] = king_data_compact['pop'] / king_data_compact['Land Area (Sq. Meters)']"
   ]
  },
  {
   "cell_type": "code",
   "execution_count": 124,
   "metadata": {},
   "outputs": [],
   "source": [
    "merged_king_data = pd.merge(\n",
    "    house,\n",
    "    king_data_compact,\n",
    "    how=\"inner\",\n",
    "    on=None,\n",
    "    left_on=\"zipcode\",\n",
    "    right_on='ZIP Code',\n",
    "    left_index=False,\n",
    "    right_index=False,\n",
    "    sort=True,\n",
    "    suffixes=(\"_x\", \"_y\"),\n",
    "    copy=True,\n",
    "    indicator=False,\n",
    "    validate=None,\n",
    ")"
   ]
  },
  {
   "cell_type": "code",
   "execution_count": 125,
   "metadata": {},
   "outputs": [
    {
     "data": {
      "text/plain": [
       "0        True\n",
       "1        True\n",
       "2        True\n",
       "3        True\n",
       "4        True\n",
       "         ... \n",
       "20223    True\n",
       "20224    True\n",
       "20225    True\n",
       "20226    True\n",
       "20227    True\n",
       "Length: 20228, dtype: bool"
      ]
     },
     "execution_count": 125,
     "metadata": {},
     "output_type": "execute_result"
    }
   ],
   "source": [
    "merged_king_data['zipcode']== merged_king_data[\"ZIP Code\"]"
   ]
  },
  {
   "cell_type": "code",
   "execution_count": 126,
   "metadata": {},
   "outputs": [
    {
     "name": "stdout",
     "output_type": "stream",
     "text": [
      "<class 'pandas.core.frame.DataFrame'>\n",
      "Int64Index: 20228 entries, 0 to 20227\n",
      "Data columns (total 20 columns):\n",
      " #   Column                  Non-Null Count  Dtype  \n",
      "---  ------                  --------------  -----  \n",
      " 0   price                   20228 non-null  float64\n",
      " 1   bedrooms                20228 non-null  int64  \n",
      " 2   bathrooms               20228 non-null  float64\n",
      " 3   sqft_living             20228 non-null  int64  \n",
      " 4   sqft_lot                20228 non-null  int64  \n",
      " 5   floors                  20228 non-null  float64\n",
      " 6   view                    20228 non-null  object \n",
      " 7   condition               20228 non-null  object \n",
      " 8   grade                   20228 non-null  object \n",
      " 9   sqft_above              20228 non-null  int64  \n",
      " 10  yr_built                20228 non-null  int64  \n",
      " 11  zipcode                 20228 non-null  int64  \n",
      " 12  lat                     20228 non-null  float64\n",
      " 13  long                    20228 non-null  float64\n",
      " 14  sqft_living15           20228 non-null  int64  \n",
      " 15  sqft_lot15              20228 non-null  int64  \n",
      " 16  Land Area (Sq. Meters)  20228 non-null  int64  \n",
      " 17  city                    20228 non-null  object \n",
      " 18  pop                     20228 non-null  int64  \n",
      " 19  density                 20228 non-null  float64\n",
      "dtypes: float64(6), int64(10), object(4)\n",
      "memory usage: 3.2+ MB\n"
     ]
    }
   ],
   "source": [
    "merged_king_data.drop(columns=['ZIP Code','county'], inplace=True)\n",
    "\n",
    "merged_king_data.info()"
   ]
  },
  {
   "cell_type": "code",
   "execution_count": 127,
   "metadata": {},
   "outputs": [
    {
     "name": "stdout",
     "output_type": "stream",
     "text": [
      "<class 'pandas.core.frame.DataFrame'>\n",
      "Int64Index: 20228 entries, 0 to 20227\n",
      "Data columns (total 14 columns):\n",
      " #   Column         Non-Null Count  Dtype  \n",
      "---  ------         --------------  -----  \n",
      " 0   price          20228 non-null  float64\n",
      " 1   bedrooms       20228 non-null  int64  \n",
      " 2   bathrooms      20228 non-null  float64\n",
      " 3   sqft_living    20228 non-null  int64  \n",
      " 4   sqft_lot       20228 non-null  int64  \n",
      " 5   floors         20228 non-null  float64\n",
      " 6   view           20228 non-null  object \n",
      " 7   condition      20228 non-null  object \n",
      " 8   grade          20228 non-null  object \n",
      " 9   sqft_above     20228 non-null  int64  \n",
      " 10  yr_built       20228 non-null  int64  \n",
      " 11  sqft_living15  20228 non-null  int64  \n",
      " 12  sqft_lot15     20228 non-null  int64  \n",
      " 13  city           20228 non-null  object \n",
      "dtypes: float64(3), int64(7), object(4)\n",
      "memory usage: 2.3+ MB\n"
     ]
    }
   ],
   "source": [
    "merged_king_data['grade']= merged_king_data['grade'].astype(object)\n",
    "\n",
    "merged_king_data.drop(columns=['density','pop','Land Area (Sq. Meters)','lat','long', 'zipcode'],inplace=True)\n",
    "\n",
    "merged_king_data.info()"
   ]
  },
  {
   "cell_type": "code",
   "execution_count": 128,
   "metadata": {
    "scrolled": true
   },
   "outputs": [
    {
     "name": "stdout",
     "output_type": "stream",
     "text": [
      "<class 'pandas.core.frame.DataFrame'>\n",
      "Int64Index: 20228 entries, 0 to 20227\n",
      "Data columns (total 14 columns):\n",
      " #   Column         Non-Null Count  Dtype  \n",
      "---  ------         --------------  -----  \n",
      " 0   price          20228 non-null  float64\n",
      " 1   bedrooms       20228 non-null  int64  \n",
      " 2   bathrooms      20228 non-null  float64\n",
      " 3   sqft_living    20228 non-null  int64  \n",
      " 4   sqft_lot       20228 non-null  int64  \n",
      " 5   floors         20228 non-null  float64\n",
      " 6   view           20228 non-null  object \n",
      " 7   condition      20228 non-null  object \n",
      " 8   grade          20228 non-null  object \n",
      " 9   sqft_above     20228 non-null  int64  \n",
      " 10  yr_built       20228 non-null  int64  \n",
      " 11  sqft_living15  20228 non-null  int64  \n",
      " 12  sqft_lot15     20228 non-null  int64  \n",
      " 13  city           20228 non-null  object \n",
      "dtypes: float64(3), int64(7), object(4)\n",
      "memory usage: 2.3+ MB\n"
     ]
    }
   ],
   "source": [
    "merged_king_data.info()"
   ]
  },
  {
   "cell_type": "code",
   "execution_count": 129,
   "metadata": {},
   "outputs": [],
   "source": [
    "merged_king_data.to_csv('data/cleandata.csv')"
   ]
  },
  {
   "cell_type": "code",
   "execution_count": null,
   "metadata": {},
   "outputs": [],
   "source": []
  }
 ],
 "metadata": {
  "kernelspec": {
   "display_name": "Python (learn-env)",
   "language": "python",
   "name": "learn-env"
  },
  "language_info": {
   "codemirror_mode": {
    "name": "ipython",
    "version": 3
   },
   "file_extension": ".py",
   "mimetype": "text/x-python",
   "name": "python",
   "nbconvert_exporter": "python",
   "pygments_lexer": "ipython3",
   "version": "3.8.5"
  }
 },
 "nbformat": 4,
 "nbformat_minor": 4
}
